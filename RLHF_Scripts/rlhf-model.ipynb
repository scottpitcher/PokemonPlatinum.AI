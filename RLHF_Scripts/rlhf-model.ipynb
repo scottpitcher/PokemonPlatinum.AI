{
 "cells": [
  {
   "cell_type": "code",
   "execution_count": 1,
   "metadata": {},
   "outputs": [
    {
     "name": "stdout",
     "output_type": "stream",
     "text": [
      "Device: mps\n"
     ]
    }
   ],
   "source": [
    "import os\n",
    "import time\n",
    "import json\n",
    "import subprocess\n",
    "import pyautogui\n",
    "import socket\n",
    "import torch\n",
    "import torch.nn as nn\n",
    "import torch.optim as optim\n",
    "from torch.utils.data import DataLoader, Dataset\n",
    "from torchvision import transforms\n",
    "from PIL import Image\n",
    "import matplotlib.pyplot as plt\n",
    "from ultralytics import YOLO\n",
    "\n",
    "device = 'mps' if torch.backends.mps.is_available() else 'cuda' if torch.cuda.is_available() else 'cpu'\n",
    "print(f\"Device: {device}\")"
   ]
  },
  {
   "cell_type": "markdown",
   "metadata": {},
   "source": [
    "### Loading the pretrained gameplay model"
   ]
  },
  {
   "cell_type": "code",
   "execution_count": 5,
   "metadata": {},
   "outputs": [
    {
     "data": {
      "text/plain": [
       "<All keys matched successfully>"
      ]
     },
     "execution_count": 5,
     "metadata": {},
     "output_type": "execute_result"
    }
   ],
   "source": [
    "from models.PokemonModelLSTM import PokemonModelLSTM\n",
    "model = PokemonModelLSTM()\n",
    "\n",
    "print(\"Gameplay model successfully loaded!\")\n",
    "# gameplay_model.eval()"
   ]
  },
  {
   "cell_type": "code",
   "execution_count": 6,
   "metadata": {},
   "outputs": [
    {
     "name": "stdout",
     "output_type": "stream",
     "text": [
      "Annotation model successfully loaded\n"
     ]
    }
   ],
   "source": [
    "\n",
    "# Load in annotation model\n",
    "annotation_model_pth = \"runs/detect/firstRun/weights/best.pt\"\n",
    "annotation_model = YOLO(annotation_model_pth)\n",
    "print(\"Annotation model successfully loaded!\")"
   ]
  },
  {
   "cell_type": "code",
   "execution_count": 7,
   "metadata": {},
   "outputs": [],
   "source": [
    "# Data paths\n",
    "states_dir = \"\"\n",
    "actions_dir = \"\"\n",
    "annotations_dir = \"\""
   ]
  },
  {
   "cell_type": "markdown",
   "metadata": {},
   "source": [
    "### Setting model hyperparameters"
   ]
  },
  {
   "cell_type": "code",
   "execution_count": 8,
   "metadata": {},
   "outputs": [],
   "source": [
    "gamma = 0.99            # Discount factor for future rewards\n",
    "epsilon = 1.0           # Initial exploration rate\n",
    "epsilon_decay = 0.995   # Decay rate for the exploration probability per episode\n",
    "min_epsilon = 0.01      # Minimum exploration rate\n",
    "learning_rate = 0.001   # Rate at which model changes parameters\n",
    "num_episodes = 1000     # Number of episodes to engage in\n",
    "\n",
    "# Action mapping for emulator\n",
    "ACTION_MAP = {\n",
    "    'A': 'x',\n",
    "    'B': 'z',\n",
    "    'X': 's',\n",
    "    'Y': 'a',\n",
    "    'Up': 'up',\n",
    "    'Down': 'down',\n",
    "    'Left': 'left',\n",
    "    'Right': 'right'\n",
    "}"
   ]
  },
  {
   "cell_type": "code",
   "execution_count": 4,
   "metadata": {},
   "outputs": [
    {
     "name": "stdout",
     "output_type": "stream",
     "text": [
      "Microphone successfully inited.\n",
      "DeSmuME 0.9.13 ARM64 NEON-A64\n",
      "Loaded state 4\n"
     ]
    }
   ],
   "source": [
    "# Importing modular scripts\n",
    "from models.PokemonModelLSTM import PokemonModelLSTM\n",
    "from modular_scripts.rlhf_utils import open_emulator, get_feedback, get_state_from_emulator, perform_action, is_at_route_203\n",
    "open_emulator()\n"
   ]
  },
  {
   "cell_type": "markdown",
   "metadata": {},
   "source": [
    "#### Examining how epsilon (exploration rate) changes through episodes (training)"
   ]
  },
  {
   "cell_type": "markdown",
   "metadata": {},
   "source": [
    "### Connecting script to emulator (DeSmuME) via .lua script"
   ]
  },
  {
   "cell_type": "code",
   "execution_count": null,
   "metadata": {},
   "outputs": [],
   "source": [
    "# Functions to interact with the emulator\n",
    "# def send_command_to_lua(command):\n",
    "#     client = socket.socket(socket.AF_INET, socket.SOCK_STREAM)\n",
    "#     client.connect((\"localhost\", 12345))\n",
    "#     client.sendall(command.encode())\n",
    "#     response = client.recv(1024).decode()\n",
    "#     client.close()\n",
    "#     return response\n",
    "\n",
    "def perform_action(action):\n",
    "    if action in ACTION_MAP:\n",
    "        response = send_command_to_lua(f\"PERFORM_ACTION {ACTION_MAP[action]}\")\n",
    "        print(response)\n",
    "\n",
    "def get_game_state(output_dir='game_state_screenshots', frame_num=0):\n",
    "    response = send_command_to_lua(\"GET_STATE\")\n",
    "    print(response)\n",
    "    if not os.path.exists(output_dir):\n",
    "        os.makedirs(output_dir)\n",
    "    screenshot = pyautogui.screenshot()\n",
    "    frame_path = os.path.join(output_dir, f'frame_{frame_num}.png')\n",
    "    screenshot.save(frame_path)\n",
    "    print(f\"Saved game state to {frame_path}\")"
   ]
  },
  {
   "cell_type": "markdown",
   "metadata": {},
   "source": [
    "### Defining Rewards"
   ]
  },
  {
   "cell_type": "code",
   "execution_count": null,
   "metadata": {},
   "outputs": [],
   "source": [
    "def calculate_reward(state, action, next_state):\n",
    "    # Define rewards based on game events (example logic)\n",
    "    if 'battle' in state and 'battle' not in next_state:\n",
    "        return 10  # Reward for winning a battle\n",
    "    elif 'city' in next_state:\n",
    "        return 5  # Reward for entering a city\n",
    "    else:\n",
    "        return -1  # Small penalty for other actions\n",
    "\n",
    "# Example reward function with annotations (optional)\n",
    "def calculate_reward_with_annotations(state, action, next_state, annotations):\n",
    "    reward = calculate_reward(state, action, next_state)\n",
    "    if 'desired_object' in annotations:\n",
    "        reward += 2  # Additional reward for detecting desired object\n",
    "    return reward"
   ]
  },
  {
   "cell_type": "markdown",
   "metadata": {},
   "source": [
    "### Collecting Human Feedback"
   ]
  },
  {
   "cell_type": "code",
   "execution_count": null,
   "metadata": {},
   "outputs": [],
   "source": [
    "criterion = nn.MSELoss()\n",
    "optimizer = optim.Adam(model.parameters(), lr=0.001)\n",
    "\n",
    "def train_rlhf_model(epochs, model, criterion, optimizer, annotation_model):\n",
    "    for epoch in range(epochs):\n",
    "        state = get_game_state()\n",
    "        state_tensor = torch.tensor(state, dtype=torch.float32).unsqueeze(0)\n",
    "        \n",
    "        # Annotate the state using the annotation model\n",
    "        annotations = annotation_model.predict(state_tensor)\n",
    "        \n",
    "        # Decide on action\n",
    "        action = model(state_tensor)\n",
    "        action_idx = action.argmax().item()\n",
    "        action_key = list(ACTION_MAP.keys())[action_idx]\n",
    "        \n",
    "        # Execute action\n",
    "        perform_action(action_key)\n",
    "        \n",
    "        # Get next state\n",
    "        next_state = get_game_state()\n",
    "        next_state_tensor = torch.tensor(next_state, dtype=torch.float32).unsqueeze(0)\n",
    "        \n",
    "        # Calculate reward\n",
    "        reward = calculate_reward(state, action, next_state)\n",
    "        \n",
    "        # Update model\n",
    "        target = reward + gamma * model(next_state_tensor).max().item()\n",
    "        loss = criterion(action, torch.tensor([target]))\n",
    "        optimizer.zero_grad()\n",
    "        loss.backward()\n",
    "        optimizer.step()\n",
    "        \n",
    "        print(f\"Epoch {epoch + 1}/{epochs}, Loss: {loss.item()}\")\n",
    "\n",
    "# Example usage\n",
    "annotation_model = load_annotation_model()\n",
    "train_rlhf_model(epochs=100, model=model, criterion=criterion, optimizer=optimizer, annotation_model=annotation_model)"
   ]
  },
  {
   "cell_type": "code",
   "execution_count": 9,
   "metadata": {},
   "outputs": [
    {
     "ename": "KeyboardInterrupt",
     "evalue": "",
     "output_type": "error",
     "traceback": [
      "\u001b[0;31m---------------------------------------------------------------------------\u001b[0m",
      "\u001b[0;31mKeyboardInterrupt\u001b[0m                         Traceback (most recent call last)",
      "\u001b[1;32m/Users/scottpitcher/Desktop/python/Github/PokemonPlatinum.AI/rlhf-model.ipynb Cell 9\u001b[0m line \u001b[0;36m1\n\u001b[1;32m      <a href='vscode-notebook-cell:/Users/scottpitcher/Desktop/python/Github/PokemonPlatinum.AI/rlhf-model.ipynb#W6sZmlsZQ%3D%3D?line=6'>7</a>\u001b[0m     epsilon_values\u001b[39m.\u001b[39mappend(epsilon)\n\u001b[1;32m      <a href='vscode-notebook-cell:/Users/scottpitcher/Desktop/python/Github/PokemonPlatinum.AI/rlhf-model.ipynb#W6sZmlsZQ%3D%3D?line=8'>9</a>\u001b[0m \u001b[39m# Plotting the epsilon decay\u001b[39;00m\n\u001b[0;32m---> <a href='vscode-notebook-cell:/Users/scottpitcher/Desktop/python/Github/PokemonPlatinum.AI/rlhf-model.ipynb#W6sZmlsZQ%3D%3D?line=9'>10</a>\u001b[0m plt\u001b[39m.\u001b[39;49mfigure(figsize\u001b[39m=\u001b[39;49m(\u001b[39m10\u001b[39;49m, \u001b[39m6\u001b[39;49m))\n\u001b[1;32m     <a href='vscode-notebook-cell:/Users/scottpitcher/Desktop/python/Github/PokemonPlatinum.AI/rlhf-model.ipynb#W6sZmlsZQ%3D%3D?line=10'>11</a>\u001b[0m plt\u001b[39m.\u001b[39mplot(epsilon_values, label\u001b[39m=\u001b[39m\u001b[39m'\u001b[39m\u001b[39mEpsilon\u001b[39m\u001b[39m'\u001b[39m)\n\u001b[1;32m     <a href='vscode-notebook-cell:/Users/scottpitcher/Desktop/python/Github/PokemonPlatinum.AI/rlhf-model.ipynb#W6sZmlsZQ%3D%3D?line=11'>12</a>\u001b[0m plt\u001b[39m.\u001b[39mxlabel(\u001b[39m'\u001b[39m\u001b[39mEpisode\u001b[39m\u001b[39m'\u001b[39m)\n",
      "File \u001b[0;32m~/Desktop/python/Github/PokemonPlatinum.AI/.venv/lib/python3.12/site-packages/matplotlib/pyplot.py:1022\u001b[0m, in \u001b[0;36mfigure\u001b[0;34m(num, figsize, dpi, facecolor, edgecolor, frameon, FigureClass, clear, **kwargs)\u001b[0m\n\u001b[1;32m   1012\u001b[0m \u001b[39mif\u001b[39;00m \u001b[39mlen\u001b[39m(allnums) \u001b[39m==\u001b[39m max_open_warning \u001b[39m>\u001b[39m\u001b[39m=\u001b[39m \u001b[39m1\u001b[39m:\n\u001b[1;32m   1013\u001b[0m     _api\u001b[39m.\u001b[39mwarn_external(\n\u001b[1;32m   1014\u001b[0m         \u001b[39mf\u001b[39m\u001b[39m\"\u001b[39m\u001b[39mMore than \u001b[39m\u001b[39m{\u001b[39;00mmax_open_warning\u001b[39m}\u001b[39;00m\u001b[39m figures have been opened. \u001b[39m\u001b[39m\"\u001b[39m\n\u001b[1;32m   1015\u001b[0m         \u001b[39mf\u001b[39m\u001b[39m\"\u001b[39m\u001b[39mFigures created through the pyplot interface \u001b[39m\u001b[39m\"\u001b[39m\n\u001b[0;32m   (...)\u001b[0m\n\u001b[1;32m   1019\u001b[0m         \u001b[39mf\u001b[39m\u001b[39m\"\u001b[39m\u001b[39mConsider using `matplotlib.pyplot.close()`.\u001b[39m\u001b[39m\"\u001b[39m,\n\u001b[1;32m   1020\u001b[0m         \u001b[39mRuntimeWarning\u001b[39;00m)\n\u001b[0;32m-> 1022\u001b[0m manager \u001b[39m=\u001b[39m new_figure_manager(\n\u001b[1;32m   1023\u001b[0m     num, figsize\u001b[39m=\u001b[39;49mfigsize, dpi\u001b[39m=\u001b[39;49mdpi,\n\u001b[1;32m   1024\u001b[0m     facecolor\u001b[39m=\u001b[39;49mfacecolor, edgecolor\u001b[39m=\u001b[39;49medgecolor, frameon\u001b[39m=\u001b[39;49mframeon,\n\u001b[1;32m   1025\u001b[0m     FigureClass\u001b[39m=\u001b[39;49mFigureClass, \u001b[39m*\u001b[39;49m\u001b[39m*\u001b[39;49mkwargs)\n\u001b[1;32m   1026\u001b[0m fig \u001b[39m=\u001b[39m manager\u001b[39m.\u001b[39mcanvas\u001b[39m.\u001b[39mfigure\n\u001b[1;32m   1027\u001b[0m \u001b[39mif\u001b[39;00m fig_label:\n",
      "File \u001b[0;32m~/Desktop/python/Github/PokemonPlatinum.AI/.venv/lib/python3.12/site-packages/matplotlib/pyplot.py:544\u001b[0m, in \u001b[0;36mnew_figure_manager\u001b[0;34m(*args, **kwargs)\u001b[0m\n\u001b[1;32m    542\u001b[0m \u001b[39mdef\u001b[39;00m \u001b[39mnew_figure_manager\u001b[39m(\u001b[39m*\u001b[39margs, \u001b[39m*\u001b[39m\u001b[39m*\u001b[39mkwargs):\n\u001b[1;32m    543\u001b[0m \u001b[39m    \u001b[39m\u001b[39m\"\"\"Create a new figure manager instance.\"\"\"\u001b[39;00m\n\u001b[0;32m--> 544\u001b[0m     _warn_if_gui_out_of_main_thread()\n\u001b[1;32m    545\u001b[0m     \u001b[39mreturn\u001b[39;00m _get_backend_mod()\u001b[39m.\u001b[39mnew_figure_manager(\u001b[39m*\u001b[39margs, \u001b[39m*\u001b[39m\u001b[39m*\u001b[39mkwargs)\n",
      "File \u001b[0;32m~/Desktop/python/Github/PokemonPlatinum.AI/.venv/lib/python3.12/site-packages/matplotlib/pyplot.py:521\u001b[0m, in \u001b[0;36m_warn_if_gui_out_of_main_thread\u001b[0;34m()\u001b[0m\n\u001b[1;32m    519\u001b[0m \u001b[39mdef\u001b[39;00m \u001b[39m_warn_if_gui_out_of_main_thread\u001b[39m() \u001b[39m-\u001b[39m\u001b[39m>\u001b[39m \u001b[39mNone\u001b[39;00m:\n\u001b[1;32m    520\u001b[0m     warn \u001b[39m=\u001b[39m \u001b[39mFalse\u001b[39;00m\n\u001b[0;32m--> 521\u001b[0m     canvas_class \u001b[39m=\u001b[39m cast(\u001b[39mtype\u001b[39m[FigureCanvasBase], _get_backend_mod()\u001b[39m.\u001b[39mFigureCanvas)\n\u001b[1;32m    522\u001b[0m     \u001b[39mif\u001b[39;00m canvas_class\u001b[39m.\u001b[39mrequired_interactive_framework:\n\u001b[1;32m    523\u001b[0m         \u001b[39mif\u001b[39;00m \u001b[39mhasattr\u001b[39m(threading, \u001b[39m'\u001b[39m\u001b[39mget_native_id\u001b[39m\u001b[39m'\u001b[39m):\n\u001b[1;32m    524\u001b[0m             \u001b[39m# This compares native thread ids because even if Python-level\u001b[39;00m\n\u001b[1;32m    525\u001b[0m             \u001b[39m# Thread objects match, the underlying OS thread (which is what\u001b[39;00m\n\u001b[1;32m    526\u001b[0m             \u001b[39m# really matters) may be different on Python implementations with\u001b[39;00m\n\u001b[1;32m    527\u001b[0m             \u001b[39m# green threads.\u001b[39;00m\n",
      "File \u001b[0;32m~/Desktop/python/Github/PokemonPlatinum.AI/.venv/lib/python3.12/site-packages/matplotlib/pyplot.py:353\u001b[0m, in \u001b[0;36m_get_backend_mod\u001b[0;34m()\u001b[0m\n\u001b[1;32m    344\u001b[0m \u001b[39m\u001b[39m\u001b[39m\"\"\"\u001b[39;00m\n\u001b[1;32m    345\u001b[0m \u001b[39mEnsure that a backend is selected and return it.\u001b[39;00m\n\u001b[1;32m    346\u001b[0m \n\u001b[1;32m    347\u001b[0m \u001b[39mThis is currently private, but may be made public in the future.\u001b[39;00m\n\u001b[1;32m    348\u001b[0m \u001b[39m\"\"\"\u001b[39;00m\n\u001b[1;32m    349\u001b[0m \u001b[39mif\u001b[39;00m _backend_mod \u001b[39mis\u001b[39;00m \u001b[39mNone\u001b[39;00m:\n\u001b[1;32m    350\u001b[0m     \u001b[39m# Use rcParams._get(\"backend\") to avoid going through the fallback\u001b[39;00m\n\u001b[1;32m    351\u001b[0m     \u001b[39m# logic (which will (re)import pyplot and then call switch_backend if\u001b[39;00m\n\u001b[1;32m    352\u001b[0m     \u001b[39m# we need to resolve the auto sentinel)\u001b[39;00m\n\u001b[0;32m--> 353\u001b[0m     switch_backend(rcParams\u001b[39m.\u001b[39;49m_get(\u001b[39m\"\u001b[39;49m\u001b[39mbackend\u001b[39;49m\u001b[39m\"\u001b[39;49m))\n\u001b[1;32m    354\u001b[0m \u001b[39mreturn\u001b[39;00m cast(\u001b[39mtype\u001b[39m[matplotlib\u001b[39m.\u001b[39mbackend_bases\u001b[39m.\u001b[39m_Backend], _backend_mod)\n",
      "File \u001b[0;32m~/Desktop/python/Github/PokemonPlatinum.AI/.venv/lib/python3.12/site-packages/matplotlib/pyplot.py:410\u001b[0m, in \u001b[0;36mswitch_backend\u001b[0;34m(newbackend)\u001b[0m\n\u001b[1;32m    407\u001b[0m \u001b[39m# have to escape the switch on access logic\u001b[39;00m\n\u001b[1;32m    408\u001b[0m old_backend \u001b[39m=\u001b[39m \u001b[39mdict\u001b[39m\u001b[39m.\u001b[39m\u001b[39m__getitem__\u001b[39m(rcParams, \u001b[39m'\u001b[39m\u001b[39mbackend\u001b[39m\u001b[39m'\u001b[39m)\n\u001b[0;32m--> 410\u001b[0m module \u001b[39m=\u001b[39m backend_registry\u001b[39m.\u001b[39;49mload_backend_module(newbackend)\n\u001b[1;32m    411\u001b[0m canvas_class \u001b[39m=\u001b[39m module\u001b[39m.\u001b[39mFigureCanvas\n\u001b[1;32m    413\u001b[0m required_framework \u001b[39m=\u001b[39m canvas_class\u001b[39m.\u001b[39mrequired_interactive_framework\n",
      "File \u001b[0;32m~/Desktop/python/Github/PokemonPlatinum.AI/.venv/lib/python3.12/site-packages/matplotlib/backends/registry.py:316\u001b[0m, in \u001b[0;36mBackendRegistry.load_backend_module\u001b[0;34m(self, backend)\u001b[0m\n\u001b[1;32m    302\u001b[0m \u001b[39m\u001b[39m\u001b[39m\"\"\"\u001b[39;00m\n\u001b[1;32m    303\u001b[0m \u001b[39mLoad and return the module containing the specified backend.\u001b[39;00m\n\u001b[1;32m    304\u001b[0m \n\u001b[0;32m   (...)\u001b[0m\n\u001b[1;32m    313\u001b[0m \u001b[39m    Module containing backend.\u001b[39;00m\n\u001b[1;32m    314\u001b[0m \u001b[39m\"\"\"\u001b[39;00m\n\u001b[1;32m    315\u001b[0m module_name \u001b[39m=\u001b[39m \u001b[39mself\u001b[39m\u001b[39m.\u001b[39m_backend_module_name(backend)\n\u001b[0;32m--> 316\u001b[0m \u001b[39mreturn\u001b[39;00m importlib\u001b[39m.\u001b[39;49mimport_module(module_name)\n",
      "File \u001b[0;32m/opt/homebrew/Cellar/python@3.12/3.12.4/Frameworks/Python.framework/Versions/3.12/lib/python3.12/importlib/__init__.py:90\u001b[0m, in \u001b[0;36mimport_module\u001b[0;34m(name, package)\u001b[0m\n\u001b[1;32m     88\u001b[0m             \u001b[39mbreak\u001b[39;00m\n\u001b[1;32m     89\u001b[0m         level \u001b[39m+\u001b[39m\u001b[39m=\u001b[39m \u001b[39m1\u001b[39m\n\u001b[0;32m---> 90\u001b[0m \u001b[39mreturn\u001b[39;00m _bootstrap\u001b[39m.\u001b[39;49m_gcd_import(name[level:], package, level)\n",
      "File \u001b[0;32m<frozen importlib._bootstrap>:1387\u001b[0m, in \u001b[0;36m_gcd_import\u001b[0;34m(name, package, level)\u001b[0m\n",
      "File \u001b[0;32m<frozen importlib._bootstrap>:1360\u001b[0m, in \u001b[0;36m_find_and_load\u001b[0;34m(name, import_)\u001b[0m\n",
      "File \u001b[0;32m<frozen importlib._bootstrap>:1310\u001b[0m, in \u001b[0;36m_find_and_load_unlocked\u001b[0;34m(name, import_)\u001b[0m\n",
      "File \u001b[0;32m<frozen importlib._bootstrap>:488\u001b[0m, in \u001b[0;36m_call_with_frames_removed\u001b[0;34m(f, *args, **kwds)\u001b[0m\n",
      "File \u001b[0;32m<frozen importlib._bootstrap>:1387\u001b[0m, in \u001b[0;36m_gcd_import\u001b[0;34m(name, package, level)\u001b[0m\n",
      "File \u001b[0;32m<frozen importlib._bootstrap>:1360\u001b[0m, in \u001b[0;36m_find_and_load\u001b[0;34m(name, import_)\u001b[0m\n",
      "File \u001b[0;32m<frozen importlib._bootstrap>:1331\u001b[0m, in \u001b[0;36m_find_and_load_unlocked\u001b[0;34m(name, import_)\u001b[0m\n",
      "File \u001b[0;32m<frozen importlib._bootstrap>:935\u001b[0m, in \u001b[0;36m_load_unlocked\u001b[0;34m(spec)\u001b[0m\n",
      "File \u001b[0;32m<frozen importlib._bootstrap_external>:991\u001b[0m, in \u001b[0;36mexec_module\u001b[0;34m(self, module)\u001b[0m\n",
      "File \u001b[0;32m<frozen importlib._bootstrap_external>:1087\u001b[0m, in \u001b[0;36mget_code\u001b[0;34m(self, fullname)\u001b[0m\n",
      "File \u001b[0;32m<frozen importlib._bootstrap_external>:1187\u001b[0m, in \u001b[0;36mget_data\u001b[0;34m(self, path)\u001b[0m\n",
      "\u001b[0;31mKeyboardInterrupt\u001b[0m: "
     ]
    }
   ],
   "source": [
    "# List to store epsilon values\n",
    "epsilon_values = []\n",
    "\n",
    "# Simulate epsilon decay over episodes\n",
    "for episode in range(num_episodes):\n",
    "    epsilon = max(min_epsilon, epsilon * epsilon_decay)\n",
    "    epsilon_values.append(epsilon)\n",
    "\n",
    "# Plotting the epsilon decay\n",
    "plt.figure(figsize=(10, 6))\n",
    "plt.plot(epsilon_values, label='Epsilon')\n",
    "plt.xlabel('Episode')\n",
    "plt.ylabel('Epsilon Value')\n",
    "plt.title('Epsilon Decay Over Episodes')\n",
    "plt.legend()\n",
    "plt.grid(True)\n",
    "plt.show()\n"
   ]
  }
 ],
 "metadata": {
  "kernelspec": {
   "display_name": ".venv",
   "language": "python",
   "name": "python3"
  },
  "language_info": {
   "codemirror_mode": {
    "name": "ipython",
    "version": 3
   },
   "file_extension": ".py",
   "mimetype": "text/x-python",
   "name": "python",
   "nbconvert_exporter": "python",
   "pygments_lexer": "ipython3",
   "version": "3.10.14"
  }
 },
 "nbformat": 4,
 "nbformat_minor": 2
}
