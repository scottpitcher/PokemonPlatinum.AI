{
 "cells": [
  {
   "cell_type": "markdown",
   "metadata": {},
   "source": [
    "## Creating Annotation Model for Gameplay"
   ]
  },
  {
   "cell_type": "markdown",
   "metadata": {},
   "source": [
    "### Goal:\n",
    "To develop a machine learning model that accurately identifies and annotates specific events and objects within gameplay videos, leveraging manually annotated frames to train the model.\n",
    "\n",
    "### Purpose: \n",
    "- Automate Annotation: Reduce the manual effort required in annotating large volumes of gameplay data by automating the annotation process.\n",
    "- Improve Model Accuracy: Utilize manually annotated frames to train a high-accuracy model, ensuring precise and reliable annotations in the gameplay videos.\n",
    "- Facilitate Advanced Analytics: Enable deeper analysis and insights from the annotated gameplay data, supporting tasks such as event detection, player behavior analysis, and game strategy optimization.\n",
    "\n",
    "### Tools:\n",
    "\n",
    "<b>Data Preparation:</b>\n",
    "pyautogui (for capturing periodic screenshots during gameplay),\n",
    "opencv for extracting frames from gameplay videos\n",
    "\n",
    "<b>Annotation Tools:</b>\n",
    "Roboflow\n",
    "\n",
    "<b>Frameworks:</b>\n",
    "PyTorch,\n",
    "TensorFlow\n",
    "\n",
    "<b>Pre-trained Models:</b>\n",
    "YOLO (You Only Look Once),\n",
    "Faster R-CNN,\n",
    "\n",
    "<b>Development and Testing:</b>\n",
    "Visual Studio Code,\n",
    "Jupyter Notebook,\n",
    "GitHub or GitLab for version control\n",
    "\n",
    "<b>Deployment:</b>\n",
    "AWS,\n",
    "Docker for containerization"
   ]
  },
  {
   "cell_type": "code",
   "execution_count": 23,
   "metadata": {},
   "outputs": [
    {
     "name": "stdout",
     "output_type": "stream",
     "text": [
      "Using device: mps\n"
     ]
    }
   ],
   "source": [
    "from roboflow import Roboflow\n",
    "import os\n",
    "import dotenv\n",
    "import torch\n",
    "from ultralytics import YOLO\n",
    "import cv2\n",
    "import matplotlib\n",
    "matplotlib.use('TkAgg')\n",
    "import matplotlib.pyplot as plt\n",
    "import torch\n",
    "\n",
    "device = 'mps' if torch.backends.mps.is_available() else 'cuda' if torch.cuda.is_available() else 'cpu'\n",
    "dotenv.load_dotenv()\n",
    "print(f\"Using device: {device}\")\n"
   ]
  },
  {
   "cell_type": "markdown",
   "metadata": {},
   "source": [
    "### Importing Manually Annotated Gameplay Frames"
   ]
  },
  {
   "cell_type": "markdown",
   "metadata": {},
   "source": [
    "!pip install roboflow"
   ]
  },
  {
   "cell_type": "code",
   "execution_count": 33,
   "metadata": {},
   "outputs": [
    {
     "name": "stdout",
     "output_type": "stream",
     "text": [
      "loading Roboflow workspace...\n",
      "loading Roboflow project...\n"
     ]
    },
    {
     "name": "stderr",
     "output_type": "stream",
     "text": [
      "Downloading Dataset Version Zip in pokemon_platinum_ai-15 to yolov9:: 100%|█████████▉| 34617/34618 [00:01<00:00, 29474.38it/s]\n"
     ]
    },
    {
     "name": "stdout",
     "output_type": "stream",
     "text": [
      "\n"
     ]
    },
    {
     "name": "stderr",
     "output_type": "stream",
     "text": [
      "Extracting Dataset Version Zip to pokemon_platinum_ai-15 in yolov9:: 100%|██████████| 1842/1842 [00:00<00:00, 8297.37it/s]\n"
     ]
    },
    {
     "name": "stderr",
     "output_type": "stream",
     "text": [
      "Fatal Python error: PyEval_RestoreThread: the function must be called with the GIL held, after Python initialization and before Python finalization, but the GIL is released (the current Python thread state is NULL)\n",
      "Python runtime state: initialized\n",
      "\n",
      "Thread 0x000000037fb93000 (most recent call first):\n",
      "  <no Python frame>\n",
      "\n",
      "Thread 0x000000030b2ff000 (most recent call first):\n",
      "  File \"/opt/homebrew/Cellar/python@3.12/3.12.4/Frameworks/Python.framework/Versions/3.12/lib/python3.12/threading.py\", line 359 in wait\n",
      "  File \"/opt/homebrew/Cellar/python@3.12/3.12.4/Frameworks/Python.framework/Versions/3.12/lib/python3.12/threading.py\", line 655 in wait\n",
      "  File \"/Users/scottpitcher/Desktop/python/Github/PokemonPlatinum.AI/.venv/lib/python3.12/site-packages/tqdm/_monitor.py\", line 60 in run\n",
      "  File \"/opt/homebrew/Cellar/python@3.12/3.12.4/Frameworks/Python.framework/Versions/3.12/lib/python3.12/threading.py\", line 1073 in _bootstrap_inner\n",
      "  File \"/opt/homebrew/Cellar/python@3.12/3.12.4/Frameworks/Python.framework/Versions/3.12/lib/python3.12/threading.py\", line 1030 in _bootstrap\n",
      "\n",
      "Thread 0x0000000171a57000 (most recent call first):\n",
      "  File \"/opt/homebrew/Cellar/python@3.12/3.12.4/Frameworks/Python.framework/Versions/3.12/lib/python3.12/threading.py\", line 355 in wait\n",
      "  File \"/opt/homebrew/Cellar/python@3.12/3.12.4/Frameworks/Python.framework/Versions/3.12/lib/python3.12/threading.py\", line 655 in wait\n",
      "  File \"/Users/scottpitcher/Desktop/python/Github/PokemonPlatinum.AI/.venv/lib/python3.12/site-packages/IPython/core/history.py\", line 903 in run\n",
      "  File \"/Users/scottpitcher/Desktop/python/Github/PokemonPlatinum.AI/.venv/lib/python3.12/site-packages/IPython/core/history.py\", line 61 in only_when_enabled\n",
      "  File \"/Users/scottpitcher/Desktop/python/Github/PokemonPlatinum.AI/.venv/lib/python3.12/site-packages/decorator.py\", line 232 in fun\n",
      "  File \"/opt/homebrew/Cellar/python@3.12/3.12.4/Frameworks/Python.framework/Versions/3.12/lib/python3.12/threading.py\", line 1073 in _bootstrap_inner\n",
      "  File \"/opt/homebrew/Cellar/python@3.12/3.12.4/Frameworks/Python.framework/Versions/3.12/lib/python3.12/threading.py\", line 1030 in _bootstrap\n",
      "\n",
      "Thread 0x0000000170a4b000 (most recent call first):\n",
      "  File \"/opt/homebrew/Cellar/python@3.12/3.12.4/Frameworks/Python.framework/Versions/3.12/lib/python3.12/selectors.py\", line 566 in select\n",
      "  File \"/opt/homebrew/Cellar/python@3.12/3.12.4/Frameworks/Python.framework/Versions/3.12/lib/python3.12/asyncio/base_events.py\", line 1949 in _run_once\n",
      "  File \"/opt/homebrew/Cellar/python@3.12/3.12.4/Frameworks/Python.framework/Versions/3.12/lib/python3.12/asyncio/base_events.py\", line 641 in run_forever\n",
      "  File \"/Users/scottpitcher/Desktop/python/Github/PokemonPlatinum.AI/.venv/lib/python3.12/site-packages/tornado/platform/asyncio.py\", line 205 in start\n",
      "  File \"/Users/scottpitcher/Desktop/python/Github/PokemonPlatinum.AI/.venv/lib/python3.12/site-packages/ipykernel/control.py\", line 23 in run\n",
      "  File \"/opt/homebrew/Cellar/python@3.12/3.12.4/Frameworks/Python.framework/Versions/3.12/lib/python3.12/threading.py\", line 1073 in _bootstrap_inner\n",
      "  File \"/opt/homebrew/Cellar/python@3.12/3.12.4/Frameworks/Python.framework/Versions/3.12/lib/python3.12/threading.py\", line 1030 in _bootstrap\n",
      "\n",
      "Thread 0x000000016fa3f000 (most recent call first):\n",
      "  File \"/Users/scottpitcher/Desktop/python/Github/PokemonPlatinum.AI/.venv/lib/python3.12/site-packages/ipykernel/iostream.py\", line 664 in write\n",
      "  File \"/Users/scottpitcher/Desktop/python/Github/PokemonPlatinum.AI/.venv/lib/python3.12/site-packages/ipykernel/iostream.py\", line 389 in _watch_pipe_fd\n",
      "  File \"/opt/homebrew/Cellar/python@3.12/3.12.4/Frameworks/Python.framework/Versions/3.12/lib/python3.12/threading.py\", line 1010 in run\n",
      "  File \"/opt/homebrew/Cellar/python@3.12/3.12.4/Frameworks/Python.framework/Versions/3.12/lib/python3.12/threading.py\", line 1073 in _bootstrap_inner\n",
      "  File \"/opt/homebrew/Cellar/python@3.12/3.12.4/Frameworks/Python.framework/Versions/3.12/lib/python3.12/threading.py\", line 1030 in _bootstrap\n",
      "\n",
      "Thread 0x000000016ea33000 (most recent call first):\n",
      "  File \"/Users/scottpitcher/Desktop/python/Github/PokemonPlatinum.AI/.venv/lib/python3.12/site-packages/ipykernel/iostream.py\", line 387 in _watch_pipe_fd\n",
      "  File \"/opt/homebrew/Cellar/python@3.12/3.12.4/Frameworks/Python.framework/Versions/3.12/lib/python3.12/threading.py\", line 1010 in run\n",
      "  File \"/opt/homebrew/Cellar/python@3.12/3.12.4/Frameworks/Python.framework/Versions/3.12/lib/python3.12/threading.py\", line 1073 in _bootstrap_inner\n",
      "  File \"/opt/homebrew/Cellar/python@3.12/3.12.4/Frameworks/Python.framework/Versions/3.12/lib/python3.12/threading.py\", line 1030 in _bootstrap\n",
      "\n",
      "Thread 0x000000016d90f000 (most recent call first):\n",
      "  File \"/Users/scottpitcher/Desktop/python/Github/PokemonPlatinum.AI/.venv/lib/python3.12/site-packages/ipykernel/heartbeat.py\", line 106 in run\n",
      "  File \"/opt/homebrew/Cellar/python@3.12/3.12.4/Frameworks/Python.framework/Versions/3.12/lib/python3.12/threading.py\", line 1073 in _bootstrap_inner\n",
      "  File \"/opt/homebrew/Cellar/python@3.12/3.12.4/Frameworks/Python.framework/Versions/3.12/lib/python3.12/threading.py\", line 1030 in _bootstrap\n",
      "\n",
      "Thread 0x000000016c903000 (most recent call first):\n",
      "  File \"/opt/homebrew/Cellar/python@3.12/3.12.4/Frameworks/Python.framework/Versions/3.12/lib/python3.12/selectors.py\", line 566 in select\n",
      "  File \"/opt/homebrew/Cellar/python@3.12/3.12.4/Frameworks/Python.framework/Versions/3.12/lib/python3.12/asyncio/base_events.py\", line 1949 in _run_once\n",
      "  File \"/opt/homebrew/Cellar/python@3.12/3.12.4/Frameworks/Python.framework/Versions/3.12/lib/python3.12/asyncio/base_events.py\", line 641 in run_forever\n",
      "  File \"/Users/scottpitcher/Desktop/python/Github/PokemonPlatinum.AI/.venv/lib/python3.12/site-packages/tornado/platform/asyncio.py\", line 205 in start\n",
      "  File \"/Users/scottpitcher/Desktop/python/Github/PokemonPlatinum.AI/.venv/lib/python3.12/site-packages/ipykernel/iostream.py\", line 92 in _thread_main\n",
      "  File \"/opt/homebrew/Cellar/python@3.12/3.12.4/Frameworks/Python.framework/Versions/3.12/lib/python3.12/threading.py\", line 1010 in run\n",
      "  File \"/opt/homebrew/Cellar/python@3.12/3.12.4/Frameworks/Python.framework/Versions/3.12/lib/python3.12/threading.py\", line 1073 in _bootstrap_inner\n",
      "  File \"/opt/homebrew/Cellar/python@3.12/3.12.4/Frameworks/Python.framework/Versions/3.12/lib/python3.12/threading.py\", line 1030 in _bootstrap\n",
      "\n",
      "Current thread 0x00000001f0204c00 (most recent call first):\n",
      "  File \"/opt/homebrew/Cellar/python@3.12/3.12.4/Frameworks/Python.framework/Versions/3.12/lib/python3.12/selectors.py\", line 566 in select\n",
      "  File \"/opt/homebrew/Cellar/python@3.12/3.12.4/Frameworks/Python.framework/Versions/3.12/lib/python3.12/asyncio/base_events.py\", line 1949 in _run_once\n",
      "  File \"/opt/homebrew/Cellar/python@3.12/3.12.4/Frameworks/Python.framework/Versions/3.12/lib/python3.12/asyncio/base_events.py\", line 641 in run_forever\n",
      "  File \"/Users/scottpitcher/Desktop/python/Github/PokemonPlatinum.AI/.venv/lib/python3.12/site-packages/tornado/platform/asyncio.py\", line 205 in start\n",
      "  File \"/Users/scottpitcher/Desktop/python/Github/PokemonPlatinum.AI/.venv/lib/python3.12/site-packages/ipykernel/kernelapp.py\", line 739 in start\n",
      "  File \"/Users/scottpitcher/Desktop/python/Github/PokemonPlatinum.AI/.venv/lib/python3.12/site-packages/traitlets/config/application.py\", line 1075 in launch_instance\n",
      "  File \"/Users/scottpitcher/Desktop/python/Github/PokemonPlatinum.AI/.venv/lib/python3.12/site-packages/ipykernel_launcher.py\", line 18 in <module>\n",
      "  File \"<frozen runpy>\", line 88 in _run_code\n",
      "  File \"<frozen runpy>\", line 198 in _run_module_as_main\n",
      "\n",
      "Extension modules: zmq.backend.cython._zmq, tornado.speedups, psutil._psutil_osx, psutil._psutil_posix, charset_normalizer.md, requests.packages.charset_normalizer.md, requests.packages.chardet.md, yaml._yaml, PIL._imaging, numpy.core._multiarray_umath, numpy.core._multiarray_tests, numpy.linalg._umath_linalg, numpy.fft._pocketfft_internal, numpy.random._common, numpy.random.bit_generator, numpy.random._bounded_integers, numpy.random._mt19937, numpy.random.mtrand, numpy.random._philox, numpy.random._pcg64, numpy.random._sfc64, numpy.random._generator, torch._C, torch._C._fft, torch._C._linalg, torch._C._nested, torch._C._nn, torch._C._sparse, torch._C._special"
     ]
    },
    {
     "ename": "",
     "evalue": "",
     "output_type": "error",
     "traceback": [
      "\u001b[1;31mThe Kernel crashed while executing code in the the current cell or a previous cell. Please review the code in the cell(s) to identify a possible cause of the failure. Click <a href='https://aka.ms/vscodeJupyterKernelCrash'>here</a> for more info. View Jupyter <a href='command:jupyter.viewOutput'>log</a> for further details."
     ]
    }
   ],
   "source": [
    "rf = Roboflow(api_key= os.getenv(\"ROBOFLOW_APIKEY\"))\n",
    "project = rf.workspace(\"scotts-workspace\").project(\"pokemon_platinum_ai\")\n",
    "version = project.version(15)\n",
    "dataset = version.download(\"yolov9\")\n",
    "\n",
    "dataset_path = '/Users/scottpitcher/Desktop/python/Github/PokemonPlatinum.AI/pokemon_platinum_ai-16/data.yaml'\n",
    "\n",
    "num_workers= os.cpu_count()"
   ]
  },
  {
   "cell_type": "markdown",
   "metadata": {},
   "source": [
    "#### Initial Model Training (Broken into Three Parts Due to Computation Cost)"
   ]
  },
  {
   "cell_type": "code",
   "execution_count": 26,
   "metadata": {},
   "outputs": [
    {
     "name": "stdout",
     "output_type": "stream",
     "text": [
      "New https://pypi.org/project/ultralytics/8.2.87 available 😃 Update with 'pip install -U ultralytics'\n",
      "Ultralytics YOLOv8.2.78 🚀 Python-3.12.4 torch-2.3.1 CPU (Apple M2)\n",
      "\u001b[34m\u001b[1mengine/trainer: \u001b[0mtask=detect, mode=train, model=yolov9s.pt, data=/Users/scottpitcher/Desktop/python/Github/PokemonPlatinum.AI/pokemon_platinum_ai-16/data.yaml, epochs=60, time=None, patience=12, batch=8, imgsz=640, save=True, save_period=-1, cache=False, device=cpu, workers=8, project=None, name=firstRun, exist_ok=True, pretrained=True, optimizer=auto, verbose=True, seed=0, deterministic=True, single_cls=False, rect=False, cos_lr=False, close_mosaic=10, resume=False, amp=True, fraction=1.0, profile=False, freeze=None, multi_scale=False, overlap_mask=True, mask_ratio=4, dropout=0.0, val=True, split=val, save_json=False, save_hybrid=False, conf=None, iou=0.7, max_det=300, half=False, dnn=False, plots=True, source=None, vid_stride=1, stream_buffer=False, visualize=False, augment=False, agnostic_nms=False, classes=None, retina_masks=False, embed=None, show=False, save_frames=False, save_txt=False, save_conf=False, save_crop=False, show_labels=True, show_conf=True, show_boxes=True, line_width=None, format=torchscript, keras=False, optimize=False, int8=False, dynamic=False, simplify=False, opset=None, workspace=4, nms=False, lr0=0.01, lrf=0.01, momentum=0.937, weight_decay=0.0005, warmup_epochs=3.0, warmup_momentum=0.8, warmup_bias_lr=0.1, box=7.5, cls=0.5, dfl=1.5, pose=12.0, kobj=1.0, label_smoothing=0.0, nbs=64, hsv_h=0.015, hsv_s=0.7, hsv_v=0.4, degrees=0.0, translate=0.1, scale=0.5, shear=0.0, perspective=0.0, flipud=0.0, fliplr=0.5, bgr=0.0, mosaic=1.0, mixup=0.0, copy_paste=0.0, auto_augment=randaugment, erasing=0.4, crop_fraction=1.0, cfg=None, tracker=botsort.yaml, save_dir=/Users/scottpitcher/Desktop/python/Github/PokemonPlatinum.AI/runs/detect/firstRun\n",
      "Overriding model.yaml nc=80 with nc=124\n",
      "\n",
      "                   from  n    params  module                                       arguments                     \n",
      "  0                  -1  1       928  ultralytics.nn.modules.conv.Conv             [3, 32, 3, 2]                 \n",
      "  1                  -1  1     18560  ultralytics.nn.modules.conv.Conv             [32, 64, 3, 2]                \n",
      "  2                  -1  1     31104  ultralytics.nn.modules.block.ELAN1           [64, 64, 64, 32]              \n",
      "  3                  -1  1     73984  ultralytics.nn.modules.block.AConv           [64, 128]                     \n",
      "  4                  -1  1    258432  ultralytics.nn.modules.block.RepNCSPELAN4    [128, 128, 128, 64, 3]        \n",
      "  5                  -1  1    221568  ultralytics.nn.modules.block.AConv           [128, 192]                    \n",
      "  6                  -1  1    579648  ultralytics.nn.modules.block.RepNCSPELAN4    [192, 192, 192, 96, 3]        \n",
      "  7                  -1  1    442880  ultralytics.nn.modules.block.AConv           [192, 256]                    \n",
      "  8                  -1  1   1028864  ultralytics.nn.modules.block.RepNCSPELAN4    [256, 256, 256, 128, 3]       \n",
      "  9                  -1  1    164608  ultralytics.nn.modules.block.SPPELAN         [256, 256, 128]               \n",
      " 10                  -1  1         0  torch.nn.modules.upsampling.Upsample         [None, 2, 'nearest']          \n",
      " 11             [-1, 6]  1         0  ultralytics.nn.modules.conv.Concat           [1]                           \n",
      " 12                  -1  1    628800  ultralytics.nn.modules.block.RepNCSPELAN4    [448, 192, 192, 96, 3]        \n",
      " 13                  -1  1         0  torch.nn.modules.upsampling.Upsample         [None, 2, 'nearest']          \n",
      " 14             [-1, 4]  1         0  ultralytics.nn.modules.conv.Concat           [1]                           \n",
      " 15                  -1  1    283008  ultralytics.nn.modules.block.RepNCSPELAN4    [320, 128, 128, 64, 3]        \n",
      " 16                  -1  1    110784  ultralytics.nn.modules.block.AConv           [128, 96]                     \n",
      " 17            [-1, 12]  1         0  ultralytics.nn.modules.conv.Concat           [1]                           \n",
      " 18                  -1  1    598080  ultralytics.nn.modules.block.RepNCSPELAN4    [288, 192, 192, 96, 3]        \n",
      " 19                  -1  1    221440  ultralytics.nn.modules.block.AConv           [192, 128]                    \n",
      " 20             [-1, 9]  1         0  ultralytics.nn.modules.conv.Concat           [1]                           \n",
      " 21                  -1  1   1061632  ultralytics.nn.modules.block.RepNCSPELAN4    [384, 256, 256, 128, 3]       \n",
      " 22        [15, 18, 21]  1   1611076  ultralytics.nn.modules.head.Detect           [124, [128, 192, 256]]        \n",
      "YOLOv9s summary: 917 layers, 7,335,396 parameters, 7,335,380 gradients, 27.6 GFLOPs\n",
      "\n",
      "Transferred 1333/1339 items from pretrained weights\n",
      "Freezing layer 'model.22.dfl.conv.weight'\n"
     ]
    },
    {
     "name": "stderr",
     "output_type": "stream",
     "text": [
      "\u001b[34m\u001b[1mtrain: \u001b[0mScanning /Users/scottpitcher/Desktop/python/Github/PokemonPlatinum.AI/pokemon_platinum_ai-16/train/labels... 2342 images, 96 backgrounds, 0 corrupt: 100%|██████████| 2342/2342 [00:00<00:00, 3135.64it/s]"
     ]
    },
    {
     "name": "stdout",
     "output_type": "stream",
     "text": [
      "\u001b[34m\u001b[1mtrain: \u001b[0mWARNING ⚠️ /Users/scottpitcher/Desktop/python/Github/PokemonPlatinum.AI/pokemon_platinum_ai-16/train/images/2024-06-20_16-50-42_png.rf.1d6fc3ae8a5652b610a24f8a87a668f2.jpg: 1 duplicate labels removed\n",
      "\u001b[34m\u001b[1mtrain: \u001b[0mWARNING ⚠️ /Users/scottpitcher/Desktop/python/Github/PokemonPlatinum.AI/pokemon_platinum_ai-16/train/images/2024-06-20_16-50-42_png.rf.3afc27919bc76e699492f028046e6b81.jpg: 1 duplicate labels removed\n",
      "\u001b[34m\u001b[1mtrain: \u001b[0mWARNING ⚠️ /Users/scottpitcher/Desktop/python/Github/PokemonPlatinum.AI/pokemon_platinum_ai-16/train/images/2024-06-20_16-50-42_png.rf.aeb3e477fe447220212f4bd9c057e6d0.jpg: 1 duplicate labels removed\n",
      "\u001b[34m\u001b[1mtrain: \u001b[0mNew cache created: /Users/scottpitcher/Desktop/python/Github/PokemonPlatinum.AI/pokemon_platinum_ai-16/train/labels.cache\n",
      "WARNING ⚠️ Box and segment counts should be equal, but got len(segments) = 60, len(boxes) = 14015. To resolve this only boxes will be used and all segments will be removed. To avoid this please supply either a detect or segment dataset, not a detect-segment mixed dataset.\n"
     ]
    },
    {
     "name": "stderr",
     "output_type": "stream",
     "text": [
      "\n",
      "\u001b[34m\u001b[1mval: \u001b[0mScanning /Users/scottpitcher/Desktop/python/Github/PokemonPlatinum.AI/pokemon_platinum_ai-16/valid/labels... 88 images, 9 backgrounds, 0 corrupt: 100%|██████████| 88/88 [00:00<00:00, 3522.67it/s]"
     ]
    },
    {
     "name": "stdout",
     "output_type": "stream",
     "text": [
      "\u001b[34m\u001b[1mval: \u001b[0mNew cache created: /Users/scottpitcher/Desktop/python/Github/PokemonPlatinum.AI/pokemon_platinum_ai-16/valid/labels.cache\n",
      "WARNING ⚠️ Box and segment counts should be equal, but got len(segments) = 6, len(boxes) = 507. To resolve this only boxes will be used and all segments will be removed. To avoid this please supply either a detect or segment dataset, not a detect-segment mixed dataset.\n"
     ]
    },
    {
     "name": "stderr",
     "output_type": "stream",
     "text": [
      "\n"
     ]
    },
    {
     "name": "stdout",
     "output_type": "stream",
     "text": [
      "Plotting labels to /Users/scottpitcher/Desktop/python/Github/PokemonPlatinum.AI/runs/detect/firstRun/labels.jpg... \n",
      "\u001b[34m\u001b[1moptimizer:\u001b[0m 'optimizer=auto' found, ignoring 'lr0=0.01' and 'momentum=0.937' and determining best 'optimizer', 'lr0' and 'momentum' automatically... \n",
      "\u001b[34m\u001b[1moptimizer:\u001b[0m AdamW(lr=7.8e-05, momentum=0.9) with parameter groups 221 weight(decay=0.0), 228 weight(decay=0.0005), 227 bias(decay=0.0)\n",
      "Image sizes 640 train, 640 val\n",
      "Using 0 dataloader workers\n",
      "Logging results to \u001b[1m/Users/scottpitcher/Desktop/python/Github/PokemonPlatinum.AI/runs/detect/firstRun\u001b[0m\n",
      "Starting training for 60 epochs...\n",
      "\n",
      "      Epoch    GPU_mem   box_loss   cls_loss   dfl_loss  Instances       Size\n"
     ]
    },
    {
     "name": "stderr",
     "output_type": "stream",
     "text": [
      "       1/60         0G      1.203      3.581      1.269         93        640: 100%|██████████| 293/293 [1:07:27<00:00, 13.82s/it] \n",
      "                 Class     Images  Instances      Box(P          R      mAP50  mAP50-95): 100%|██████████| 6/6 [01:42<00:00, 17.03s/it]"
     ]
    },
    {
     "name": "stdout",
     "output_type": "stream",
     "text": [
      "                   all         88        507      0.873      0.156      0.187      0.134\n"
     ]
    },
    {
     "name": "stderr",
     "output_type": "stream",
     "text": [
      "\n"
     ]
    },
    {
     "name": "stdout",
     "output_type": "stream",
     "text": [
      "\n",
      "      Epoch    GPU_mem   box_loss   cls_loss   dfl_loss  Instances       Size\n"
     ]
    },
    {
     "name": "stderr",
     "output_type": "stream",
     "text": [
      "       2/60         0G     0.8362      1.405      1.043         58        640: 100%|██████████| 293/293 [56:19<00:00, 11.53s/it]  \n",
      "                 Class     Images  Instances      Box(P          R      mAP50  mAP50-95): 100%|██████████| 6/6 [00:41<00:00,  6.92s/it]"
     ]
    },
    {
     "name": "stdout",
     "output_type": "stream",
     "text": [
      "                   all         88        507      0.768      0.307      0.319      0.246\n"
     ]
    },
    {
     "name": "stderr",
     "output_type": "stream",
     "text": [
      "\n"
     ]
    },
    {
     "name": "stdout",
     "output_type": "stream",
     "text": [
      "\n",
      "      Epoch    GPU_mem   box_loss   cls_loss   dfl_loss  Instances       Size\n"
     ]
    },
    {
     "name": "stderr",
     "output_type": "stream",
     "text": [
      "       3/60         0G     0.7882      1.091      1.018         67        640: 100%|██████████| 293/293 [1:36:30<00:00, 19.76s/it]   \n",
      "                 Class     Images  Instances      Box(P          R      mAP50  mAP50-95): 100%|██████████| 6/6 [01:01<00:00, 10.31s/it]"
     ]
    },
    {
     "name": "stdout",
     "output_type": "stream",
     "text": [
      "                   all         88        507      0.821      0.341      0.408      0.321\n"
     ]
    },
    {
     "name": "stderr",
     "output_type": "stream",
     "text": [
      "\n"
     ]
    },
    {
     "name": "stdout",
     "output_type": "stream",
     "text": [
      "\n",
      "      Epoch    GPU_mem   box_loss   cls_loss   dfl_loss  Instances       Size\n"
     ]
    },
    {
     "name": "stderr",
     "output_type": "stream",
     "text": [
      "       4/60         0G     0.7472     0.9292     0.9988         64        640: 100%|██████████| 293/293 [1:15:40<00:00, 15.50s/it]   \n",
      "                 Class     Images  Instances      Box(P          R      mAP50  mAP50-95): 100%|██████████| 6/6 [00:54<00:00,  9.03s/it]"
     ]
    },
    {
     "name": "stdout",
     "output_type": "stream",
     "text": [
      "                   all         88        507       0.72      0.415      0.451      0.353\n"
     ]
    },
    {
     "name": "stderr",
     "output_type": "stream",
     "text": [
      "\n"
     ]
    },
    {
     "name": "stdout",
     "output_type": "stream",
     "text": [
      "\n",
      "      Epoch    GPU_mem   box_loss   cls_loss   dfl_loss  Instances       Size\n"
     ]
    },
    {
     "name": "stderr",
     "output_type": "stream",
     "text": [
      "       5/60         0G     0.7364     0.8658     0.9908         56        640: 100%|██████████| 293/293 [1:27:24<00:00, 17.90s/it]   \n",
      "                 Class     Images  Instances      Box(P          R      mAP50  mAP50-95): 100%|██████████| 6/6 [00:50<00:00,  8.35s/it]"
     ]
    },
    {
     "name": "stdout",
     "output_type": "stream",
     "text": [
      "                   all         88        507      0.651      0.485      0.492      0.385\n"
     ]
    },
    {
     "name": "stderr",
     "output_type": "stream",
     "text": [
      "\n"
     ]
    },
    {
     "name": "stdout",
     "output_type": "stream",
     "text": [
      "\n",
      "      Epoch    GPU_mem   box_loss   cls_loss   dfl_loss  Instances       Size\n"
     ]
    },
    {
     "name": "stderr",
     "output_type": "stream",
     "text": [
      "       6/60         0G     0.7154     0.7844     0.9814         87        640: 100%|██████████| 293/293 [47:10<00:00,  9.66s/it]  \n",
      "                 Class     Images  Instances      Box(P          R      mAP50  mAP50-95): 100%|██████████| 6/6 [00:39<00:00,  6.64s/it]"
     ]
    },
    {
     "name": "stdout",
     "output_type": "stream",
     "text": [
      "                   all         88        507      0.639      0.517      0.537      0.425\n"
     ]
    },
    {
     "name": "stderr",
     "output_type": "stream",
     "text": [
      "\n"
     ]
    },
    {
     "name": "stdout",
     "output_type": "stream",
     "text": [
      "\n",
      "      Epoch    GPU_mem   box_loss   cls_loss   dfl_loss  Instances       Size\n"
     ]
    },
    {
     "name": "stderr",
     "output_type": "stream",
     "text": [
      "       7/60         0G     0.7101     0.7603     0.9785         54        640: 100%|██████████| 293/293 [41:34<00:00,  8.51s/it]\n",
      "                 Class     Images  Instances      Box(P          R      mAP50  mAP50-95): 100%|██████████| 6/6 [00:39<00:00,  6.51s/it]"
     ]
    },
    {
     "name": "stdout",
     "output_type": "stream",
     "text": [
      "                   all         88        507      0.626      0.499      0.537      0.421\n"
     ]
    },
    {
     "name": "stderr",
     "output_type": "stream",
     "text": [
      "\n"
     ]
    },
    {
     "name": "stdout",
     "output_type": "stream",
     "text": [
      "\n",
      "      Epoch    GPU_mem   box_loss   cls_loss   dfl_loss  Instances       Size\n"
     ]
    },
    {
     "name": "stderr",
     "output_type": "stream",
     "text": [
      "       8/60         0G     0.6972     0.7154     0.9723         73        640: 100%|██████████| 293/293 [2:12:31<00:00, 27.14s/it]    \n",
      "                 Class     Images  Instances      Box(P          R      mAP50  mAP50-95): 100%|██████████| 6/6 [00:35<00:00,  5.96s/it]"
     ]
    },
    {
     "name": "stdout",
     "output_type": "stream",
     "text": [
      "                   all         88        507      0.649      0.528       0.57      0.446\n"
     ]
    },
    {
     "name": "stderr",
     "output_type": "stream",
     "text": [
      "\n"
     ]
    },
    {
     "name": "stdout",
     "output_type": "stream",
     "text": [
      "\n",
      "      Epoch    GPU_mem   box_loss   cls_loss   dfl_loss  Instances       Size\n"
     ]
    },
    {
     "name": "stderr",
     "output_type": "stream",
     "text": [
      "       9/60         0G     0.6916     0.6765     0.9635         98        640: 100%|██████████| 293/293 [1:44:32<00:00, 21.41s/it]   \n",
      "                 Class     Images  Instances      Box(P          R      mAP50  mAP50-95): 100%|██████████| 6/6 [00:48<00:00,  8.07s/it]"
     ]
    },
    {
     "name": "stdout",
     "output_type": "stream",
     "text": [
      "                   all         88        507      0.741      0.459      0.598      0.459\n"
     ]
    },
    {
     "name": "stderr",
     "output_type": "stream",
     "text": [
      "\n"
     ]
    },
    {
     "name": "stdout",
     "output_type": "stream",
     "text": [
      "\n",
      "      Epoch    GPU_mem   box_loss   cls_loss   dfl_loss  Instances       Size\n"
     ]
    },
    {
     "name": "stderr",
     "output_type": "stream",
     "text": [
      "      10/60         0G     0.6928     0.6634      0.968         51        640: 100%|██████████| 293/293 [1:09:27<00:00, 14.22s/it]\n",
      "                 Class     Images  Instances      Box(P          R      mAP50  mAP50-95): 100%|██████████| 6/6 [00:38<00:00,  6.43s/it]"
     ]
    },
    {
     "name": "stdout",
     "output_type": "stream",
     "text": [
      "                   all         88        507      0.614      0.577      0.627       0.48\n"
     ]
    },
    {
     "name": "stderr",
     "output_type": "stream",
     "text": [
      "\n"
     ]
    },
    {
     "name": "stdout",
     "output_type": "stream",
     "text": [
      "\n",
      "      Epoch    GPU_mem   box_loss   cls_loss   dfl_loss  Instances       Size\n"
     ]
    },
    {
     "name": "stderr",
     "output_type": "stream",
     "text": [
      "      11/60         0G      0.682     0.6436     0.9616         62        640: 100%|██████████| 293/293 [1:20:41<00:00, 16.52s/it] \n",
      "                 Class     Images  Instances      Box(P          R      mAP50  mAP50-95): 100%|██████████| 6/6 [00:32<00:00,  5.49s/it]"
     ]
    },
    {
     "name": "stdout",
     "output_type": "stream",
     "text": [
      "                   all         88        507      0.664      0.532      0.618      0.481\n"
     ]
    },
    {
     "name": "stderr",
     "output_type": "stream",
     "text": [
      "\n"
     ]
    },
    {
     "name": "stdout",
     "output_type": "stream",
     "text": [
      "\n",
      "      Epoch    GPU_mem   box_loss   cls_loss   dfl_loss  Instances       Size\n"
     ]
    },
    {
     "name": "stderr",
     "output_type": "stream",
     "text": [
      "      12/60         0G     0.6678     0.6074     0.9551         73        640: 100%|██████████| 293/293 [1:39:06<00:00, 20.29s/it]   \n",
      "                 Class     Images  Instances      Box(P          R      mAP50  mAP50-95): 100%|██████████| 6/6 [00:30<00:00,  5.03s/it]"
     ]
    },
    {
     "name": "stdout",
     "output_type": "stream",
     "text": [
      "                   all         88        507      0.615      0.586      0.634      0.489\n"
     ]
    },
    {
     "name": "stderr",
     "output_type": "stream",
     "text": [
      "\n"
     ]
    },
    {
     "name": "stdout",
     "output_type": "stream",
     "text": [
      "\n",
      "      Epoch    GPU_mem   box_loss   cls_loss   dfl_loss  Instances       Size\n"
     ]
    },
    {
     "name": "stderr",
     "output_type": "stream",
     "text": [
      "      13/60         0G     0.6744     0.6124     0.9582         45        640: 100%|██████████| 293/293 [1:08:57<00:00, 14.12s/it] \n",
      "                 Class     Images  Instances      Box(P          R      mAP50  mAP50-95): 100%|██████████| 6/6 [00:46<00:00,  7.72s/it]"
     ]
    },
    {
     "name": "stdout",
     "output_type": "stream",
     "text": [
      "                   all         88        507      0.583      0.619      0.611      0.477\n"
     ]
    },
    {
     "name": "stderr",
     "output_type": "stream",
     "text": [
      "\n"
     ]
    },
    {
     "name": "stdout",
     "output_type": "stream",
     "text": [
      "\n",
      "      Epoch    GPU_mem   box_loss   cls_loss   dfl_loss  Instances       Size\n"
     ]
    },
    {
     "name": "stderr",
     "output_type": "stream",
     "text": [
      "      14/60         0G     0.6671     0.5977     0.9533         81        640: 100%|██████████| 293/293 [1:11:42<00:00, 14.68s/it] \n",
      "                 Class     Images  Instances      Box(P          R      mAP50  mAP50-95): 100%|██████████| 6/6 [01:00<00:00, 10.07s/it]"
     ]
    },
    {
     "name": "stdout",
     "output_type": "stream",
     "text": [
      "                   all         88        507       0.61      0.636      0.637        0.5\n"
     ]
    },
    {
     "name": "stderr",
     "output_type": "stream",
     "text": [
      "\n"
     ]
    },
    {
     "name": "stdout",
     "output_type": "stream",
     "text": [
      "\n",
      "      Epoch    GPU_mem   box_loss   cls_loss   dfl_loss  Instances       Size\n"
     ]
    },
    {
     "name": "stderr",
     "output_type": "stream",
     "text": [
      "      15/60         0G     0.6617     0.5755     0.9524         41        640: 100%|██████████| 293/293 [1:05:38<00:00, 13.44s/it] \n",
      "                 Class     Images  Instances      Box(P          R      mAP50  mAP50-95): 100%|██████████| 6/6 [00:37<00:00,  6.17s/it]"
     ]
    },
    {
     "name": "stdout",
     "output_type": "stream",
     "text": [
      "                   all         88        507      0.644      0.589       0.66      0.523\n"
     ]
    },
    {
     "name": "stderr",
     "output_type": "stream",
     "text": [
      "\n"
     ]
    },
    {
     "name": "stdout",
     "output_type": "stream",
     "text": [
      "\n",
      "      Epoch    GPU_mem   box_loss   cls_loss   dfl_loss  Instances       Size\n"
     ]
    },
    {
     "name": "stderr",
     "output_type": "stream",
     "text": [
      "      16/60         0G     0.6442     0.5619     0.9491         81        640: 100%|██████████| 293/293 [1:33:08<00:00, 19.07s/it]   \n",
      "                 Class     Images  Instances      Box(P          R      mAP50  mAP50-95): 100%|██████████| 6/6 [03:25<00:00, 34.23s/it]"
     ]
    },
    {
     "name": "stdout",
     "output_type": "stream",
     "text": [
      "                   all         88        507      0.553      0.644      0.641      0.508\n"
     ]
    },
    {
     "name": "stderr",
     "output_type": "stream",
     "text": [
      "\n"
     ]
    },
    {
     "name": "stdout",
     "output_type": "stream",
     "text": [
      "\n",
      "      Epoch    GPU_mem   box_loss   cls_loss   dfl_loss  Instances       Size\n"
     ]
    },
    {
     "name": "stderr",
     "output_type": "stream",
     "text": [
      "      17/60         0G     0.6519     0.5515      0.947         76        640: 100%|██████████| 293/293 [1:21:54<00:00, 16.77s/it] \n",
      "                 Class     Images  Instances      Box(P          R      mAP50  mAP50-95): 100%|██████████| 6/6 [00:52<00:00,  8.71s/it]"
     ]
    },
    {
     "name": "stdout",
     "output_type": "stream",
     "text": [
      "                   all         88        507      0.625      0.589      0.657      0.515\n"
     ]
    },
    {
     "name": "stderr",
     "output_type": "stream",
     "text": [
      "\n"
     ]
    },
    {
     "name": "stdout",
     "output_type": "stream",
     "text": [
      "\n",
      "      Epoch    GPU_mem   box_loss   cls_loss   dfl_loss  Instances       Size\n"
     ]
    },
    {
     "name": "stderr",
     "output_type": "stream",
     "text": [
      "      18/60         0G     0.6452     0.5463     0.9471         63        640: 100%|██████████| 293/293 [56:02<00:00, 11.48s/it]\n",
      "                 Class     Images  Instances      Box(P          R      mAP50  mAP50-95): 100%|██████████| 6/6 [00:52<00:00,  8.71s/it]"
     ]
    },
    {
     "name": "stdout",
     "output_type": "stream",
     "text": [
      "                   all         88        507      0.698      0.574      0.677      0.514\n"
     ]
    },
    {
     "name": "stderr",
     "output_type": "stream",
     "text": [
      "\n"
     ]
    },
    {
     "name": "stdout",
     "output_type": "stream",
     "text": [
      "\n",
      "      Epoch    GPU_mem   box_loss   cls_loss   dfl_loss  Instances       Size\n"
     ]
    },
    {
     "name": "stderr",
     "output_type": "stream",
     "text": [
      "      19/60         0G     0.6477     0.5498      0.943         55        640: 100%|██████████| 293/293 [55:28<00:00, 11.36s/it]\n",
      "                 Class     Images  Instances      Box(P          R      mAP50  mAP50-95): 100%|██████████| 6/6 [00:50<00:00,  8.45s/it]"
     ]
    },
    {
     "name": "stdout",
     "output_type": "stream",
     "text": [
      "                   all         88        507      0.627      0.619      0.688      0.533\n"
     ]
    },
    {
     "name": "stderr",
     "output_type": "stream",
     "text": [
      "\n"
     ]
    },
    {
     "name": "stdout",
     "output_type": "stream",
     "text": [
      "\n",
      "      Epoch    GPU_mem   box_loss   cls_loss   dfl_loss  Instances       Size\n"
     ]
    },
    {
     "name": "stderr",
     "output_type": "stream",
     "text": [
      "      20/60         0G     0.6331     0.5296     0.9375         68        640: 100%|██████████| 293/293 [53:53<00:00, 11.03s/it]\n",
      "                 Class     Images  Instances      Box(P          R      mAP50  mAP50-95): 100%|██████████| 6/6 [00:51<00:00,  8.53s/it]"
     ]
    },
    {
     "name": "stdout",
     "output_type": "stream",
     "text": [
      "                   all         88        507      0.571      0.639      0.705      0.555\n"
     ]
    },
    {
     "name": "stderr",
     "output_type": "stream",
     "text": [
      "\n"
     ]
    },
    {
     "name": "stdout",
     "output_type": "stream",
     "text": [
      "\n",
      "      Epoch    GPU_mem   box_loss   cls_loss   dfl_loss  Instances       Size\n"
     ]
    },
    {
     "name": "stderr",
     "output_type": "stream",
     "text": [
      "      21/60         0G     0.6306     0.5126     0.9405         49        640: 100%|██████████| 293/293 [53:28<00:00, 10.95s/it]\n",
      "                 Class     Images  Instances      Box(P          R      mAP50  mAP50-95): 100%|██████████| 6/6 [00:49<00:00,  8.25s/it]"
     ]
    },
    {
     "name": "stdout",
     "output_type": "stream",
     "text": [
      "                   all         88        507      0.549      0.683      0.696      0.542\n"
     ]
    },
    {
     "name": "stderr",
     "output_type": "stream",
     "text": [
      "\n"
     ]
    },
    {
     "name": "stdout",
     "output_type": "stream",
     "text": [
      "\n",
      "      Epoch    GPU_mem   box_loss   cls_loss   dfl_loss  Instances       Size\n"
     ]
    },
    {
     "name": "stderr",
     "output_type": "stream",
     "text": [
      "      22/60         0G     0.6313     0.5048     0.9393         66        640: 100%|██████████| 293/293 [57:01<00:00, 11.68s/it]\n",
      "                 Class     Images  Instances      Box(P          R      mAP50  mAP50-95): 100%|██████████| 6/6 [00:53<00:00,  8.86s/it]"
     ]
    },
    {
     "name": "stdout",
     "output_type": "stream",
     "text": [
      "                   all         88        507      0.602      0.639      0.704      0.548\n"
     ]
    },
    {
     "name": "stderr",
     "output_type": "stream",
     "text": [
      "\n"
     ]
    },
    {
     "name": "stdout",
     "output_type": "stream",
     "text": [
      "\n",
      "      Epoch    GPU_mem   box_loss   cls_loss   dfl_loss  Instances       Size\n"
     ]
    },
    {
     "name": "stderr",
     "output_type": "stream",
     "text": [
      "      23/60         0G     0.6247     0.5036     0.9393         67        640: 100%|██████████| 293/293 [49:42<00:00, 10.18s/it]\n",
      "                 Class     Images  Instances      Box(P          R      mAP50  mAP50-95): 100%|██████████| 6/6 [00:35<00:00,  5.95s/it]"
     ]
    },
    {
     "name": "stdout",
     "output_type": "stream",
     "text": [
      "                   all         88        507      0.543      0.674      0.692      0.539\n"
     ]
    },
    {
     "name": "stderr",
     "output_type": "stream",
     "text": [
      "\n"
     ]
    },
    {
     "name": "stdout",
     "output_type": "stream",
     "text": [
      "\n",
      "      Epoch    GPU_mem   box_loss   cls_loss   dfl_loss  Instances       Size\n"
     ]
    },
    {
     "name": "stderr",
     "output_type": "stream",
     "text": [
      "      24/60         0G      0.617     0.4953      0.931         58        640: 100%|██████████| 293/293 [38:00<00:00,  7.78s/it]\n",
      "                 Class     Images  Instances      Box(P          R      mAP50  mAP50-95): 100%|██████████| 6/6 [00:40<00:00,  6.69s/it]"
     ]
    },
    {
     "name": "stdout",
     "output_type": "stream",
     "text": [
      "                   all         88        507      0.532      0.686      0.697      0.542\n"
     ]
    },
    {
     "name": "stderr",
     "output_type": "stream",
     "text": [
      "\n"
     ]
    },
    {
     "name": "stdout",
     "output_type": "stream",
     "text": [
      "\n",
      "      Epoch    GPU_mem   box_loss   cls_loss   dfl_loss  Instances       Size\n"
     ]
    },
    {
     "name": "stderr",
     "output_type": "stream",
     "text": [
      "      25/60         0G     0.6214     0.4932     0.9389         74        640: 100%|██████████| 293/293 [38:16<00:00,  7.84s/it]\n",
      "                 Class     Images  Instances      Box(P          R      mAP50  mAP50-95): 100%|██████████| 6/6 [00:39<00:00,  6.58s/it]"
     ]
    },
    {
     "name": "stdout",
     "output_type": "stream",
     "text": [
      "                   all         88        507      0.555      0.714       0.68       0.53\n"
     ]
    },
    {
     "name": "stderr",
     "output_type": "stream",
     "text": [
      "\n"
     ]
    },
    {
     "name": "stdout",
     "output_type": "stream",
     "text": [
      "\n",
      "      Epoch    GPU_mem   box_loss   cls_loss   dfl_loss  Instances       Size\n"
     ]
    },
    {
     "name": "stderr",
     "output_type": "stream",
     "text": [
      "      26/60         0G     0.6147     0.4893     0.9282         68        640: 100%|██████████| 293/293 [38:56<00:00,  7.97s/it]\n",
      "                 Class     Images  Instances      Box(P          R      mAP50  mAP50-95): 100%|██████████| 6/6 [00:37<00:00,  6.25s/it]"
     ]
    },
    {
     "name": "stdout",
     "output_type": "stream",
     "text": [
      "                   all         88        507      0.593       0.63      0.688      0.532\n"
     ]
    },
    {
     "name": "stderr",
     "output_type": "stream",
     "text": [
      "\n"
     ]
    },
    {
     "name": "stdout",
     "output_type": "stream",
     "text": [
      "\n",
      "      Epoch    GPU_mem   box_loss   cls_loss   dfl_loss  Instances       Size\n"
     ]
    },
    {
     "name": "stderr",
     "output_type": "stream",
     "text": [
      "      27/60         0G     0.6134     0.4788     0.9304         76        640: 100%|██████████| 293/293 [37:40<00:00,  7.71s/it]\n",
      "                 Class     Images  Instances      Box(P          R      mAP50  mAP50-95): 100%|██████████| 6/6 [00:37<00:00,  6.33s/it]"
     ]
    },
    {
     "name": "stdout",
     "output_type": "stream",
     "text": [
      "                   all         88        507      0.607      0.624      0.677      0.515\n"
     ]
    },
    {
     "name": "stderr",
     "output_type": "stream",
     "text": [
      "\n"
     ]
    },
    {
     "name": "stdout",
     "output_type": "stream",
     "text": [
      "\n",
      "      Epoch    GPU_mem   box_loss   cls_loss   dfl_loss  Instances       Size\n"
     ]
    },
    {
     "name": "stderr",
     "output_type": "stream",
     "text": [
      "      28/60         0G     0.6152     0.4804     0.9337         86        640: 100%|██████████| 293/293 [37:23<00:00,  7.66s/it]\n",
      "                 Class     Images  Instances      Box(P          R      mAP50  mAP50-95): 100%|██████████| 6/6 [00:36<00:00,  6.15s/it]"
     ]
    },
    {
     "name": "stdout",
     "output_type": "stream",
     "text": [
      "                   all         88        507      0.507      0.697      0.681      0.528\n"
     ]
    },
    {
     "name": "stderr",
     "output_type": "stream",
     "text": [
      "\n"
     ]
    },
    {
     "name": "stdout",
     "output_type": "stream",
     "text": [
      "\n",
      "      Epoch    GPU_mem   box_loss   cls_loss   dfl_loss  Instances       Size\n"
     ]
    },
    {
     "name": "stderr",
     "output_type": "stream",
     "text": [
      "      29/60         0G     0.6094     0.4735     0.9324         55        640: 100%|██████████| 293/293 [50:05<00:00, 10.26s/it]   \n",
      "                 Class     Images  Instances      Box(P          R      mAP50  mAP50-95): 100%|██████████| 6/6 [00:55<00:00,  9.33s/it]"
     ]
    },
    {
     "name": "stdout",
     "output_type": "stream",
     "text": [
      "                   all         88        507      0.595      0.659        0.7       0.54\n"
     ]
    },
    {
     "name": "stderr",
     "output_type": "stream",
     "text": [
      "\n"
     ]
    },
    {
     "name": "stdout",
     "output_type": "stream",
     "text": [
      "\n",
      "      Epoch    GPU_mem   box_loss   cls_loss   dfl_loss  Instances       Size\n"
     ]
    },
    {
     "name": "stderr",
     "output_type": "stream",
     "text": [
      "      30/60         0G     0.5997     0.4648     0.9287         53        640: 100%|██████████| 293/293 [1:48:24<00:00, 22.20s/it]   \n",
      "                 Class     Images  Instances      Box(P          R      mAP50  mAP50-95): 100%|██████████| 6/6 [00:43<00:00,  7.31s/it]"
     ]
    },
    {
     "name": "stdout",
     "output_type": "stream",
     "text": [
      "                   all         88        507      0.645      0.659      0.707      0.554\n"
     ]
    },
    {
     "name": "stderr",
     "output_type": "stream",
     "text": [
      "\n"
     ]
    },
    {
     "name": "stdout",
     "output_type": "stream",
     "text": [
      "\n",
      "      Epoch    GPU_mem   box_loss   cls_loss   dfl_loss  Instances       Size\n"
     ]
    },
    {
     "name": "stderr",
     "output_type": "stream",
     "text": [
      "      31/60         0G     0.5986     0.4593     0.9263         40        640: 100%|██████████| 293/293 [1:23:52<00:00, 17.18s/it]   \n",
      "                 Class     Images  Instances      Box(P          R      mAP50  mAP50-95): 100%|██████████| 6/6 [00:49<00:00,  8.18s/it]"
     ]
    },
    {
     "name": "stdout",
     "output_type": "stream",
     "text": [
      "                   all         88        507      0.608      0.682      0.684       0.53\n"
     ]
    },
    {
     "name": "stderr",
     "output_type": "stream",
     "text": [
      "\n"
     ]
    },
    {
     "name": "stdout",
     "output_type": "stream",
     "text": [
      "\n",
      "      Epoch    GPU_mem   box_loss   cls_loss   dfl_loss  Instances       Size\n"
     ]
    },
    {
     "name": "stderr",
     "output_type": "stream",
     "text": [
      "      32/60         0G      0.594     0.4612     0.9281         68        640: 100%|██████████| 293/293 [52:49<00:00, 10.82s/it]\n",
      "                 Class     Images  Instances      Box(P          R      mAP50  mAP50-95): 100%|██████████| 6/6 [00:53<00:00,  8.86s/it]"
     ]
    },
    {
     "name": "stdout",
     "output_type": "stream",
     "text": [
      "                   all         88        507      0.625      0.647      0.691      0.538\n",
      "\u001b[34m\u001b[1mEarlyStopping: \u001b[0mTraining stopped early as no improvement observed in last 12 epochs. Best results observed at epoch 20, best model saved as best.pt.\n",
      "To update EarlyStopping(patience=12) pass a new patience value, i.e. `patience=300` or use `patience=0` to disable EarlyStopping.\n"
     ]
    },
    {
     "name": "stderr",
     "output_type": "stream",
     "text": [
      "\n"
     ]
    },
    {
     "name": "stdout",
     "output_type": "stream",
     "text": [
      "\n",
      "32 epochs completed in 36.329 hours.\n",
      "Optimizer stripped from /Users/scottpitcher/Desktop/python/Github/PokemonPlatinum.AI/runs/detect/firstRun/weights/last.pt, 15.3MB\n",
      "Optimizer stripped from /Users/scottpitcher/Desktop/python/Github/PokemonPlatinum.AI/runs/detect/firstRun/weights/best.pt, 15.3MB\n",
      "\n",
      "Validating /Users/scottpitcher/Desktop/python/Github/PokemonPlatinum.AI/runs/detect/firstRun/weights/best.pt...\n"
     ]
    },
    {
     "name": "stderr",
     "output_type": "stream",
     "text": [
      "Python(90520) MallocStackLogging: can't turn off malloc stack logging because it was not enabled.\n"
     ]
    },
    {
     "name": "stdout",
     "output_type": "stream",
     "text": [
      "Ultralytics YOLOv8.2.78 🚀 Python-3.12.4 torch-2.3.1 CPU (Apple M2)\n",
      "YOLOv9s summary (fused): 486 layers, 7,215,076 parameters, 0 gradients, 27.0 GFLOPs\n"
     ]
    },
    {
     "name": "stderr",
     "output_type": "stream",
     "text": [
      "                 Class     Images  Instances      Box(P          R      mAP50  mAP50-95): 100%|██████████| 6/6 [00:53<00:00,  8.84s/it]\n"
     ]
    },
    {
     "name": "stdout",
     "output_type": "stream",
     "text": [
      "                   all         88        507      0.571      0.639      0.705      0.555\n",
      "                   Bag          3          3      0.739          1      0.913      0.776\n",
      "           FaintSymbol          1          1          1          0      0.995      0.597\n",
      "               Pokemon          1          1          1          0      0.995      0.995\n",
      "                   Run          3          3          1      0.909      0.995      0.913\n",
      "            attackUsed          7          7      0.916          1      0.995      0.955\n",
      "              bagItems          1          1      0.592          1      0.995      0.796\n",
      "               bagMenu          1          1      0.414          1      0.995      0.995\n",
      "             bagOption          1          1          1          0          0          0\n",
      "             bagPocket          1          1      0.284          1      0.995      0.995\n",
      "                 barry          2          2      0.721          1      0.995      0.796\n",
      "                battle         32         32      0.755          1      0.901      0.901\n",
      "         battleOptions          3          3      0.622      0.578       0.83      0.683\n",
      "           battleStart          3          3      0.271      0.333      0.271      0.262\n",
      "             battleWon          1          1          0          0      0.199      0.199\n",
      "              building          1          1      0.187          1      0.995      0.697\n",
      "                cancel          1          1          0          0          0          0\n",
      "               cashier          1          2          1      0.968      0.995      0.378\n",
      "               caveEnt          1          1      0.561          1      0.995      0.497\n",
      "              dialogue          8          8      0.315      0.625      0.487      0.442\n",
      "                  door          2          2      0.601          1      0.663      0.383\n",
      "              entrance          2          2      0.423        0.5      0.448      0.282\n",
      "             escalator          1          2          0          0      0.122     0.0545\n",
      "              exitMenu          2          2          0          0          0          0\n",
      "             expGained          3          3      0.193      0.667      0.617      0.567\n",
      "                 fence         11         30      0.626      0.933       0.85      0.508\n",
      "             foeAttack          1          1      0.552          1      0.995      0.895\n",
      "          gateEntrance          1          1          1          0          0          0\n",
      "                 grass         15         20      0.487      0.333      0.388      0.235\n",
      "              gymEntry          1          1      0.603          1      0.995      0.895\n",
      "          healDialogue          1          1      0.457          1      0.995      0.995\n",
      "        healthOpponent         15         15      0.881      0.984      0.975      0.583\n",
      "            healthUser         27         27      0.751          1       0.87      0.641\n",
      "              idOption          1          1          1          0          0          0\n",
      "                  item          1          1          1          0      0.995      0.697\n",
      "              itemDesc          1          1      0.401          1      0.995      0.995\n",
      "             itemFound          1          1          1          0      0.995      0.995\n",
      "              itemName          1          7      0.392          1      0.995      0.676\n",
      "             itemQuant          1          7      0.878          1      0.995      0.638\n",
      "                   joy          3          3      0.609          1      0.995      0.532\n",
      "              jubilife          1          1      0.812          1      0.995      0.895\n",
      "          keepBattling          1          1      0.414          1      0.995      0.895\n",
      "                 ledge          6         10      0.639        0.8      0.721      0.395\n",
      "         levelOpponent         15         15      0.845          1      0.962      0.589\n",
      "               levelUp          1          1      0.952          1      0.995      0.995\n",
      "             levelUser         27         27      0.758          1      0.876      0.519\n",
      "              location          1          1      0.617          1      0.995      0.995\n",
      "                looker          2          2      0.478      0.935      0.497      0.375\n",
      "                  mart          1          1      0.332          1      0.497      0.497\n",
      "                martIN          1          1          0          0          0          0\n",
      "                  menu          2          2      0.732          1      0.995      0.848\n",
      "           nextPokemon          1          2          0          0      0.129      0.129\n",
      "                   npc         23         44       0.82       0.93       0.93      0.625\n",
      "            npcAlerted          2          2          1          0     0.0263    0.00789\n",
      "        opponentActive          2          3          1      0.551      0.913      0.455\n",
      "        opponentBattle         12         12      0.702          1      0.916      0.871\n",
      "      opponentDefeated          1          1      0.149          1      0.995      0.895\n",
      "         opponentFaint          4          5      0.419      0.438      0.613      0.482\n",
      "          opponentNext          1          1          1          0     0.0995     0.0796\n",
      "         opponentParty          2          2      0.771        0.5      0.828      0.614\n",
      "         optionOptions          1          1          0          0          0          0\n",
      "               oreCity          1          1      0.299          1      0.995      0.995\n",
      "                oreGym          2          2      0.734          1      0.995      0.995\n",
      "                 party          1          1      0.603          1      0.995      0.995\n",
      "            partyFaint          1          1      0.444          1      0.995      0.995\n",
      "           partyHealth          1          6      0.891          1      0.995       0.85\n",
      "                    pc          1          1          1          0      0.995      0.697\n",
      "             pcMachine          1          1          1          0      0.995      0.796\n",
      "         pokedexOption          1          1          0          0          0          0\n",
      "         pokemonCenter          5          5       0.72        0.8      0.807      0.657\n",
      "         pokemonOption          1          1          0          0          0          0\n",
      "           pokemonSlot          1          6      0.874          1      0.995      0.874\n",
      "                 roark          1          1          0          0          0          0\n",
      "            saveOption          1          1          0          0          0          0\n",
      "          selectedItem          1          1          1          0      0.995      0.514\n",
      "          selectedMove          1          1          0          0     0.0829     0.0332\n",
      "        selectedOption          2          2          1      0.967      0.995      0.648\n",
      "                stairs         14         15      0.853          1      0.949      0.689\n",
      "       statusCondition          1          1      0.661          1      0.995      0.199\n",
      "         switchPokemon          3          3      0.362      0.333      0.641      0.641\n",
      "             tallGrass          2          2      0.137          1      0.745      0.571\n",
      "              treeArea         22         39      0.545      0.795      0.641      0.444\n",
      "               useMove          3          3      0.162      0.667        0.5      0.488\n",
      "                  user         35         35      0.791      0.971      0.916      0.582\n",
      "            userActive          2          9      0.839          1      0.984      0.685\n",
      "            userBattle         22         22      0.712          1       0.83      0.749\n",
      "           userFainted          1          1          0          0          0          0\n",
      "             userParty          2          2       0.53       0.59      0.828      0.502\n",
      "              userTurn          3          4       0.47       0.75      0.553      0.505\n",
      "                 water          2          3      0.534          1      0.913       0.65\n",
      "Speed: 1.5ms preprocess, 585.9ms inference, 0.0ms loss, 1.2ms postprocess per image\n",
      "Results saved to \u001b[1m/Users/scottpitcher/Desktop/python/Github/PokemonPlatinum.AI/runs/detect/firstRun\u001b[0m\n",
      "Starting TensorBoard...\n"
     ]
    },
    {
     "name": "stderr",
     "output_type": "stream",
     "text": [
      "sh: tensorboard: command not found\n"
     ]
    },
    {
     "data": {
      "text/plain": [
       "32512"
      ]
     },
     "execution_count": 26,
     "metadata": {},
     "output_type": "execute_result"
    }
   ],
   "source": [
    "model = YOLO(\"yolov9s.pt\")\n",
    "\n",
    "model.train(\n",
    "    data = dataset_path,\n",
    "    epochs = 60,\n",
    "    patience =12,\n",
    "    imgsz= 640,\n",
    "    device='cpu',\n",
    "    batch= 8,\n",
    "    amp = True,\n",
    "    workers = num_workers,\n",
    "    val = True,\n",
    "    plots = True,\n",
    "    name = \"firstRun\",\n",
    "    exist_ok = True,\n",
    ")\n",
    "print(\"Starting TensorBoard...\")\n",
    "os.system(f\"tensorboard --logdir models/annotation_runs/\")"
   ]
  },
  {
   "cell_type": "code",
   "execution_count": null,
   "metadata": {},
   "outputs": [],
   "source": [
    "model = YOLO(\"runs/detect/firstRun/weights/best.pt\")\n",
    "\n",
    "model.train(\n",
    "    data = dataset_path,\n",
    "    epochs = 120,\n",
    "    patience =2,\n",
    "    imgsz= 640,\n",
    "    device=device,\n",
    "    batch= 8,\n",
    "    amp = True,\n",
    "    workers = num_workers,\n",
    "    val = True,\n",
    "    plots = True,\n",
    "    # resume = True, # Start training off firstRun weights\n",
    "    name = \"secondRun\",\n",
    "    exist_ok = True,\n",
    ")\n",
    "print(\"Starting TensorBoard...\")\n",
    "os.system(f\"tensorboard --logdir models/annotation_runs/\")"
   ]
  },
  {
   "cell_type": "markdown",
   "metadata": {},
   "source": [
    "### Final Training Loop"
   ]
  },
  {
   "cell_type": "code",
   "execution_count": null,
   "metadata": {},
   "outputs": [],
   "source": [
    "model = YOLO(\"runs/detect/finalRun2/weights/best.pt\")\n",
    "\n",
    "model.train(\n",
    "    data = dataset_path,\n",
    "    epochs = 60,\n",
    "    patience = 12,\n",
    "    imgsz= 640,\n",
    "    device=device,\n",
    "    batch= 8,\n",
    "    amp = True,\n",
    "    workers = num_workers,\n",
    "    val = True,\n",
    "    plots = True,\n",
    "    # resume = True, # Start training off secondRun weights\n",
    "    name = \"finalRun\",\n",
    ")\n",
    "print(\"Starting TensorBoard...\")\n",
    "os.system(f\"tensorboard --logdir models/annotation_runs/\")"
   ]
  },
  {
   "cell_type": "code",
   "execution_count": null,
   "metadata": {},
   "outputs": [],
   "source": [
    "import os\n",
    "\n",
    "label_path = '/Users/scottpitcher/Desktop/python/Github/PokemonPlatinum.AI/route_203_images/train/labels/'\n",
    "num_classes = 124\n",
    "\n",
    "for label_file in os.listdir(label_path):\n",
    "    with open(os.path.join(label_path, label_file), 'r') as f:\n",
    "        lines = f.readlines()\n",
    "\n",
    "    corrected_lines = []\n",
    "    for line in lines:\n",
    "        class_id = int(line.split()[0])\n",
    "        if class_id < num_classes:\n",
    "            corrected_lines.append(line)\n",
    "        else:\n",
    "            print(f\"Ignoring corrupt label in {label_file}: {line.strip()}\")\n",
    "\n",
    "    with open(os.path.join(label_path, label_file), 'w') as f:\n",
    "        f.writelines(corrected_lines)\n",
    "\n",
    "print(\"Finished checking and correcting label files.\")\n"
   ]
  },
  {
   "cell_type": "code",
   "execution_count": null,
   "metadata": {},
   "outputs": [],
   "source": [
    "model = YOLO(\"runs/detect/firstRun/weights/best.pt\")"
   ]
  },
  {
   "cell_type": "code",
   "execution_count": null,
   "metadata": {},
   "outputs": [],
   "source": [
    "import os\n",
    "\n",
    "label_path = '/Users/scottpitcher/Desktop/python/Github/PokemonPlatinum.AI/route_203_images/train/labels/'\n",
    "num_classes = 124\n",
    "class_counts = {i: 0 for i in range(num_classes)}\n",
    "\n",
    "for label_file in os.listdir(label_path):\n",
    "    with open(os.path.join(label_path, label_file), 'r') as f:\n",
    "        lines = f.readlines()\n",
    "        for line in lines:\n",
    "            class_id = int(line.split()[0])\n",
    "            if class_id < num_classes:\n",
    "                class_counts[class_id] += 1\n",
    "\n",
    "# Print class counts\n",
    "for class_id, count in class_counts.items():\n",
    "    print(f\"Class {class_id}: {count} instances\")\n"
   ]
  },
  {
   "cell_type": "code",
   "execution_count": null,
   "metadata": {},
   "outputs": [],
   "source": [
    "model = torch.load('runs/detect/firstRun/weights/best.pt')\n",
    "\n",
    "version.deploy(model_type='yolov9',model_path ='runs/detect/firstRun')"
   ]
  },
  {
   "cell_type": "markdown",
   "metadata": {},
   "source": [
    "### Testing the model on a random image"
   ]
  },
  {
   "cell_type": "code",
   "execution_count": 30,
   "metadata": {},
   "outputs": [
    {
     "name": "stderr",
     "output_type": "stream",
     "text": [
      "Python(96636) MallocStackLogging: can't turn off malloc stack logging because it was not enabled.\n"
     ]
    },
    {
     "name": "stdout",
     "output_type": "stream",
     "text": [
      "\n",
      "image 1/1 /Users/scottpitcher/Desktop/python/Github/PokemonPlatinum.AI/annotated_images/images/2024-09-01_21-47-44_png.rf.06c8ac396e7ca2b5b01beda98f45bdd7.jpg: 640x448 1 battle, 1 healthOpponent, 1 healthUser, 1 levelOpponent, 1 levelUser, 1 opponentBattle, 1 userBattle, 237.7ms\n",
      "Speed: 8.7ms preprocess, 237.7ms inference, 17.6ms postprocess per image at shape (1, 3, 640, 448)\n",
      "Object: battle, Confidence: 0.95\n",
      "Object: opponentBattle, Confidence: 0.90\n",
      "Object: userBattle, Confidence: 0.88\n",
      "Object: levelOpponent, Confidence: 0.85\n",
      "Object: levelUser, Confidence: 0.85\n",
      "Object: healthUser, Confidence: 0.80\n",
      "Object: healthOpponent, Confidence: 0.80\n"
     ]
    }
   ],
   "source": [
    "best_path = \"runs/detect/firstRun/weights/best.pt\"\n",
    "image_path = \"/Users/scottpitcher/Desktop/python/Github/PokemonPlatinum.AI/annotated_images/images/2024-09-01_21-47-44_png.rf.06c8ac396e7ca2b5b01beda98f45bdd7.jpg\"\n",
    "model = YOLO(best_path)\n",
    "results = model.predict(image_path)\n",
    "results\n",
    "\n",
    "for result in results:\n",
    "    if result.boxes is not None:\n",
    "        for box in result.boxes:\n",
    "            class_id = box.cls.item()           # Get the class ID\n",
    "            confidence = box.conf.item()        # Get the confidence score\n",
    "            class_name = model.names[class_id]  # Map the class ID to the class name\n",
    "            print(f\"Object: {class_name}, Confidence: {confidence:.2f}\")\n"
   ]
  },
  {
   "cell_type": "code",
   "execution_count": 28,
   "metadata": {},
   "outputs": [
    {
     "name": "stderr",
     "output_type": "stream",
     "text": [
      "Python(94102) MallocStackLogging: can't turn off malloc stack logging because it was not enabled.\n"
     ]
    },
    {
     "name": "stdout",
     "output_type": "stream",
     "text": [
      "\n",
      "image 1/1 /Users/scottpitcher/Desktop/python/Github/PokemonPlatinum.AI/annotated_images/images/2024-09-01_21-41-30_png.rf.6e06b983956e5c1342fdb8fd6b681d72.jpg: 640x448 1 barry, 2 fences, 1 route203, 1 stairs, 1 tallGrass, 3 treeAreas, 1 user, 384.6ms\n",
      "Speed: 135.5ms preprocess, 384.6ms inference, 18.5ms postprocess per image at shape (1, 3, 640, 448)\n",
      "Number of objects detected: 10\n"
     ]
    }
   ],
   "source": [
    "from ultralytics import YOLO\n",
    "import cv2\n",
    "import matplotlib.pyplot as plt\n",
    "\n",
    "best_path = \"runs/detect/firstRun/weights/best.pt\"\n",
    "image_path = \"/Users/scottpitcher/Desktop/python/Github/PokemonPlatinum.AI/annotated_images/images/2024-09-01_21-41-30_png.rf.6e06b983956e5c1342fdb8fd6b681d72.jpg\"\n",
    "\n",
    "model = YOLO(best_path)\n",
    "results = model.predict(image_path)\n",
    "results\n",
    "\n",
    "for result in results:\n",
    "    # Count the number of detected objects\n",
    "    num_objects = len(result.boxes) if result.boxes is not None else 0\n",
    "    print(f\"Number of objects detected: {num_objects}\")\n",
    "\n",
    "    # Render and show the image with detected objects\n",
    "    result_image = result.plot()\n",
    "    result_image_bgr = cv2.cvtColor(result_image, cv2.COLOR_RGB2BGR) # Convert color scale from RGB to BGR\n",
    "    plt.imshow(result_image_bgr) \n",
    "    plt.title(f\"Detected Objects: {num_objects}\")\n",
    "    plt.axis('off')\n",
    "    plt.show()"
   ]
  },
  {
   "cell_type": "markdown",
   "metadata": {},
   "source": [
    "#### Error handling: missing [\"model\"] attr from annot model\n",
    "This occured due to the training being interrupted <br>\n",
    "**Solution:** Grab the attr from another model with the same architecture, and reassign it"
   ]
  },
  {
   "cell_type": "code",
   "execution_count": null,
   "metadata": {},
   "outputs": [],
   "source": [
    "model = torch.load(\"runs/detect/firstRun/weights/best.pt\")\n",
    "print(model['model'])"
   ]
  },
  {
   "cell_type": "code",
   "execution_count": null,
   "metadata": {},
   "outputs": [],
   "source": [
    "yolo_model = torch.load('yolov9s.pt')\n",
    "trained_model =  torch.load(\"runs/detect/tunedModel3/weights/best.pt\")\n",
    "\n",
    "same_keys = yolo_model['model'].state_dict().keys() == trained_model['model'].state_dict().keys()\n",
    "print(f\"Same architecture: {same_keys}\")\n",
    "\n",
    "same_weights = all(torch.equal(yolo_model['model'].state_dict()[k], trained_model['model'].state_dict()[k])\n",
    "                  for k in yolo_model['model'].state_dict().keys())\n",
    "print(f\"Same weights: {same_weights}\")\n"
   ]
  },
  {
   "cell_type": "code",
   "execution_count": null,
   "metadata": {},
   "outputs": [],
   "source": [
    "import torch\n",
    "from ultralytics import YOLO\n",
    "\n",
    "# Load the working YOLO model\n",
    "model = YOLO('runs/detect/firstRun/weights/best.pt')\n",
    "yolo_model = YOLO('yolov9s.pt')\n",
    "\n",
    "# Access the state dictionary directly from the model\n",
    "state_dict = yolo_model.model\n",
    "\n",
    "# Save this state_dict into a new file\n",
    "torch.save({'model': state_dict}, 'runs/detect/firstRun/weights/best_with_weights.pt')\n",
    "\n",
    "print(\"Weights saved successfully!\")\n"
   ]
  },
  {
   "cell_type": "code",
   "execution_count": null,
   "metadata": {},
   "outputs": [],
   "source": [
    "import yaml\n",
    "\n",
    "# Load the class names from the data.yaml file\n",
    "with open('pokemon_platinum_ai-14/data.yaml', 'r') as file:\n",
    "    yaml_file = yaml.safe_load(file)\n",
    "class_names = yaml_file['names']\n",
    "\n",
    "# Create a dictionary mapping index to class name\n",
    "names_order = list(range(len(class_names)))\n",
    "class_dict = dict(zip(names_order, class_names))\n",
    "\n",
    "print(class_dict)\n",
    "\n",
    "model.model.names= class_dict\n",
    "torch.save({'model': state_dict}, 'runs/detect/firstRun/weights/best_with_weights.pt')"
   ]
  },
  {
   "cell_type": "code",
   "execution_count": null,
   "metadata": {},
   "outputs": [],
   "source": [
    "trained_model['model'].names"
   ]
  },
  {
   "cell_type": "code",
   "execution_count": null,
   "metadata": {},
   "outputs": [],
   "source": [
    "model = torch.load('runs/detect/firstRun/weights/best_with_weights.pt')\n",
    "print(model['model'])\n",
    "\n",
    "model['model'].names = class_names"
   ]
  },
  {
   "cell_type": "code",
   "execution_count": 19,
   "metadata": {},
   "outputs": [
    {
     "name": "stdout",
     "output_type": "stream",
     "text": [
      "loading Roboflow workspace...\n",
      "loading Roboflow project...\n",
      "View the status of your deployment at: https://app.roboflow.com/scotts-workspace/pokemon_platinum_ai/15\n",
      "Share your model with the world at: https://universe.roboflow.com/scotts-workspace/pokemon_platinum_ai/model/15\n"
     ]
    }
   ],
   "source": [
    "import requests\n",
    "import dotenv\n",
    "from roboflow import Roboflow\n",
    "import os\n",
    "import dill\n",
    "\n",
    "\n",
    "dotenv.load_dotenv()\n",
    "rf = Roboflow(api_key= os.getenv(\"ROBOFLOW_APIKEY\"))\n",
    "project = rf.workspace(\"scotts-workspace\").project(\"pokemon_platinum_ai\")\n",
    "version = project.version(14)\n",
    "version.deploy(model_type=\"yolov9s\", model_path=\"runs/detect/firstRun\", filename = \"weights/best_with_weights.pt\")\n",
    "\n",
    "\n",
    "# if response.status_code == 200:\n",
    "#     print(\"Model uploaded successfully!\")\n",
    "# else:\n",
    "#     print(f\"Failed to upload the model: {response.content}\")\n"
   ]
  },
  {
   "cell_type": "code",
   "execution_count": null,
   "metadata": {},
   "outputs": [],
   "source": []
  }
 ],
 "metadata": {
  "kernelspec": {
   "display_name": ".venv",
   "language": "python",
   "name": "python3"
  },
  "language_info": {
   "codemirror_mode": {
    "name": "ipython",
    "version": 3
   },
   "file_extension": ".py",
   "mimetype": "text/x-python",
   "name": "python",
   "nbconvert_exporter": "python",
   "pygments_lexer": "ipython3",
   "version": "3.10.14"
  }
 },
 "nbformat": 4,
 "nbformat_minor": 2
}
